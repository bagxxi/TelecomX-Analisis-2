{
  "nbformat": 4,
  "nbformat_minor": 0,
  "metadata": {
    "colab": {
      "provenance": [],
      "mount_file_id": "1Pt3lN54A66x3_tT1M8UQulPOTFdmVQVW",
      "authorship_tag": "ABX9TyO98rOX8ZuL/rOSZM+yu3eZ",
      "include_colab_link": true
    },
    "kernelspec": {
      "name": "python3",
      "display_name": "Python 3"
    },
    "language_info": {
      "name": "python"
    }
  },
  "cells": [
    {
      "cell_type": "markdown",
      "metadata": {
        "id": "view-in-github",
        "colab_type": "text"
      },
      "source": [
        "<a href=\"https://colab.research.google.com/github/bagxxi/TelecomX-Analisis-2/blob/main/telecomx2.ipynb\" target=\"_parent\"><img src=\"https://colab.research.google.com/assets/colab-badge.svg\" alt=\"Open In Colab\"/></a>"
      ]
    },
    {
      "cell_type": "code",
      "execution_count": 9,
      "metadata": {
        "colab": {
          "base_uri": "https://localhost:8080/"
        },
        "id": "67vSUHXyq3TN",
        "outputId": "fa9e3b02-f391-4d43-c64b-fa310869b661"
      },
      "outputs": [
        {
          "output_type": "stream",
          "name": "stdout",
          "text": [
            "Drive already mounted at /content/drive; to attempt to forcibly remount, call drive.mount(\"/content/drive\", force_remount=True).\n",
            "¡Archivo CSV importado exitosamente!\n",
            "   customerID Churn                                           customer  \\\n",
            "0  0002-ORFBO    No  {'gender': 'Female', 'SeniorCitizen': 0, 'Part...   \n",
            "1  0003-MKNFE    No  {'gender': 'Male', 'SeniorCitizen': 0, 'Partne...   \n",
            "2  0004-TLHLJ   Yes  {'gender': 'Male', 'SeniorCitizen': 0, 'Partne...   \n",
            "3  0011-IGKFF   Yes  {'gender': 'Male', 'SeniorCitizen': 1, 'Partne...   \n",
            "4  0013-EXCHZ   Yes  {'gender': 'Female', 'SeniorCitizen': 1, 'Part...   \n",
            "\n",
            "                                             phone  \\\n",
            "0   {'PhoneService': 'Yes', 'MultipleLines': 'No'}   \n",
            "1  {'PhoneService': 'Yes', 'MultipleLines': 'Yes'}   \n",
            "2   {'PhoneService': 'Yes', 'MultipleLines': 'No'}   \n",
            "3   {'PhoneService': 'Yes', 'MultipleLines': 'No'}   \n",
            "4   {'PhoneService': 'Yes', 'MultipleLines': 'No'}   \n",
            "\n",
            "                                            internet  \\\n",
            "0  {'InternetService': 'DSL', 'OnlineSecurity': '...   \n",
            "1  {'InternetService': 'DSL', 'OnlineSecurity': '...   \n",
            "2  {'InternetService': 'Fiber optic', 'OnlineSecu...   \n",
            "3  {'InternetService': 'Fiber optic', 'OnlineSecu...   \n",
            "4  {'InternetService': 'Fiber optic', 'OnlineSecu...   \n",
            "\n",
            "                                             account Dependents  gender  \\\n",
            "0  {'Contract': 'One year', 'PaperlessBilling': '...        Yes  Female   \n",
            "1  {'Contract': 'Month-to-month', 'PaperlessBilli...         No    Male   \n",
            "2  {'Contract': 'Month-to-month', 'PaperlessBilli...         No    Male   \n",
            "3  {'Contract': 'Month-to-month', 'PaperlessBilli...         No    Male   \n",
            "4  {'Contract': 'Month-to-month', 'PaperlessBilli...         No  Female   \n",
            "\n",
            "   SeniorCitizen  tenure  ... DeviceProtection OnlineSecurity StreamingTV  \\\n",
            "0              0       9  ...               No             No         Yes   \n",
            "1              0       9  ...               No             No          No   \n",
            "2              0       4  ...              Yes             No          No   \n",
            "3              1      13  ...              Yes             No         Yes   \n",
            "4              1       3  ...               No             No         Yes   \n",
            "\n",
            "  InternetService        Contract     PaymentMethod PaperlessBilling  \\\n",
            "0             DSL        One year      Mailed check              Yes   \n",
            "1             DSL  Month-to-month      Mailed check               No   \n",
            "2     Fiber optic  Month-to-month  Electronic check              Yes   \n",
            "3     Fiber optic  Month-to-month  Electronic check              Yes   \n",
            "4     Fiber optic  Month-to-month      Mailed check              Yes   \n",
            "\n",
            "                                 Charges TotalCharges NumServices  \n",
            "0    {'Monthly': 65.6, 'Total': '593.3'}       593.30           5  \n",
            "1    {'Monthly': 59.9, 'Total': '542.4'}       542.40           4  \n",
            "2   {'Monthly': 73.9, 'Total': '280.85'}       280.85           3  \n",
            "3  {'Monthly': 98.0, 'Total': '1237.85'}      1237.85           6  \n",
            "4    {'Monthly': 83.9, 'Total': '267.4'}       267.40           4  \n",
            "\n",
            "[5 rows x 26 columns]\n"
          ]
        }
      ],
      "source": [
        "from google.colab import drive\n",
        "from pandas import DataFrame\n",
        "import pandas as pd\n",
        "\n",
        "drive.mount('/content/drive')\n",
        "\n",
        "# Definir la ruta al archivo CSV en tu Drive\n",
        "file_path = '/content/drive/MyDrive/datos_tratados.csv'\n",
        "\n",
        "# Leer el archivo CSV en un DataFrame de pandas\n",
        "try:\n",
        "    df = pd.read_csv(file_path)\n",
        "    print(\"¡Archivo CSV importado exitosamente!\")\n",
        "    print(df.head()) # Mostrar las primeras filas del DataFrame\n",
        "except FileNotFoundError:\n",
        "    print(f\"Error: No se encontró el archivo '{file_path}'.\")\n",
        "except Exception as e:\n",
        "    print(f\"Ocurrió un error: {e}\")"
      ]
    },
    {
      "cell_type": "code",
      "source": [
        "# Eliminar la columna 'customerID' ya que es un identificador único y no es útil para la predicción\n",
        "df = df.drop('customerID', axis=1)\n",
        "\n",
        "# Mostrar el DataFrame actualizado\n",
        "print(\"DataFrame después de eliminar la columna 'customerID':\")\n",
        "display(df.head())"
      ],
      "metadata": {
        "colab": {
          "base_uri": "https://localhost:8080/",
          "height": 533
        },
        "id": "GFg3nUHVs6wC",
        "outputId": "aa3ed1b2-0fd6-4080-ab92-6345cd02f160"
      },
      "execution_count": 10,
      "outputs": [
        {
          "output_type": "stream",
          "name": "stdout",
          "text": [
            "DataFrame después de eliminar la columna 'customerID':\n"
          ]
        },
        {
          "output_type": "display_data",
          "data": {
            "text/plain": [
              "  Churn                                           customer  \\\n",
              "0    No  {'gender': 'Female', 'SeniorCitizen': 0, 'Part...   \n",
              "1    No  {'gender': 'Male', 'SeniorCitizen': 0, 'Partne...   \n",
              "2   Yes  {'gender': 'Male', 'SeniorCitizen': 0, 'Partne...   \n",
              "3   Yes  {'gender': 'Male', 'SeniorCitizen': 1, 'Partne...   \n",
              "4   Yes  {'gender': 'Female', 'SeniorCitizen': 1, 'Part...   \n",
              "\n",
              "                                             phone  \\\n",
              "0   {'PhoneService': 'Yes', 'MultipleLines': 'No'}   \n",
              "1  {'PhoneService': 'Yes', 'MultipleLines': 'Yes'}   \n",
              "2   {'PhoneService': 'Yes', 'MultipleLines': 'No'}   \n",
              "3   {'PhoneService': 'Yes', 'MultipleLines': 'No'}   \n",
              "4   {'PhoneService': 'Yes', 'MultipleLines': 'No'}   \n",
              "\n",
              "                                            internet  \\\n",
              "0  {'InternetService': 'DSL', 'OnlineSecurity': '...   \n",
              "1  {'InternetService': 'DSL', 'OnlineSecurity': '...   \n",
              "2  {'InternetService': 'Fiber optic', 'OnlineSecu...   \n",
              "3  {'InternetService': 'Fiber optic', 'OnlineSecu...   \n",
              "4  {'InternetService': 'Fiber optic', 'OnlineSecu...   \n",
              "\n",
              "                                             account Dependents  gender  \\\n",
              "0  {'Contract': 'One year', 'PaperlessBilling': '...        Yes  Female   \n",
              "1  {'Contract': 'Month-to-month', 'PaperlessBilli...         No    Male   \n",
              "2  {'Contract': 'Month-to-month', 'PaperlessBilli...         No    Male   \n",
              "3  {'Contract': 'Month-to-month', 'PaperlessBilli...         No    Male   \n",
              "4  {'Contract': 'Month-to-month', 'PaperlessBilli...         No  Female   \n",
              "\n",
              "   SeniorCitizen  tenure Partner  ... DeviceProtection OnlineSecurity  \\\n",
              "0              0       9     Yes  ...               No             No   \n",
              "1              0       9      No  ...               No             No   \n",
              "2              0       4      No  ...              Yes             No   \n",
              "3              1      13     Yes  ...              Yes             No   \n",
              "4              1       3     Yes  ...               No             No   \n",
              "\n",
              "  StreamingTV InternetService        Contract     PaymentMethod  \\\n",
              "0         Yes             DSL        One year      Mailed check   \n",
              "1          No             DSL  Month-to-month      Mailed check   \n",
              "2          No     Fiber optic  Month-to-month  Electronic check   \n",
              "3         Yes     Fiber optic  Month-to-month  Electronic check   \n",
              "4         Yes     Fiber optic  Month-to-month      Mailed check   \n",
              "\n",
              "  PaperlessBilling                                Charges TotalCharges  \\\n",
              "0              Yes    {'Monthly': 65.6, 'Total': '593.3'}       593.30   \n",
              "1               No    {'Monthly': 59.9, 'Total': '542.4'}       542.40   \n",
              "2              Yes   {'Monthly': 73.9, 'Total': '280.85'}       280.85   \n",
              "3              Yes  {'Monthly': 98.0, 'Total': '1237.85'}      1237.85   \n",
              "4              Yes    {'Monthly': 83.9, 'Total': '267.4'}       267.40   \n",
              "\n",
              "  NumServices  \n",
              "0           5  \n",
              "1           4  \n",
              "2           3  \n",
              "3           6  \n",
              "4           4  \n",
              "\n",
              "[5 rows x 25 columns]"
            ],
            "text/html": [
              "\n",
              "  <div id=\"df-b82e4cf8-5799-415a-8fba-b3ee1d709bf8\" class=\"colab-df-container\">\n",
              "    <div>\n",
              "<style scoped>\n",
              "    .dataframe tbody tr th:only-of-type {\n",
              "        vertical-align: middle;\n",
              "    }\n",
              "\n",
              "    .dataframe tbody tr th {\n",
              "        vertical-align: top;\n",
              "    }\n",
              "\n",
              "    .dataframe thead th {\n",
              "        text-align: right;\n",
              "    }\n",
              "</style>\n",
              "<table border=\"1\" class=\"dataframe\">\n",
              "  <thead>\n",
              "    <tr style=\"text-align: right;\">\n",
              "      <th></th>\n",
              "      <th>Churn</th>\n",
              "      <th>customer</th>\n",
              "      <th>phone</th>\n",
              "      <th>internet</th>\n",
              "      <th>account</th>\n",
              "      <th>Dependents</th>\n",
              "      <th>gender</th>\n",
              "      <th>SeniorCitizen</th>\n",
              "      <th>tenure</th>\n",
              "      <th>Partner</th>\n",
              "      <th>...</th>\n",
              "      <th>DeviceProtection</th>\n",
              "      <th>OnlineSecurity</th>\n",
              "      <th>StreamingTV</th>\n",
              "      <th>InternetService</th>\n",
              "      <th>Contract</th>\n",
              "      <th>PaymentMethod</th>\n",
              "      <th>PaperlessBilling</th>\n",
              "      <th>Charges</th>\n",
              "      <th>TotalCharges</th>\n",
              "      <th>NumServices</th>\n",
              "    </tr>\n",
              "  </thead>\n",
              "  <tbody>\n",
              "    <tr>\n",
              "      <th>0</th>\n",
              "      <td>No</td>\n",
              "      <td>{'gender': 'Female', 'SeniorCitizen': 0, 'Part...</td>\n",
              "      <td>{'PhoneService': 'Yes', 'MultipleLines': 'No'}</td>\n",
              "      <td>{'InternetService': 'DSL', 'OnlineSecurity': '...</td>\n",
              "      <td>{'Contract': 'One year', 'PaperlessBilling': '...</td>\n",
              "      <td>Yes</td>\n",
              "      <td>Female</td>\n",
              "      <td>0</td>\n",
              "      <td>9</td>\n",
              "      <td>Yes</td>\n",
              "      <td>...</td>\n",
              "      <td>No</td>\n",
              "      <td>No</td>\n",
              "      <td>Yes</td>\n",
              "      <td>DSL</td>\n",
              "      <td>One year</td>\n",
              "      <td>Mailed check</td>\n",
              "      <td>Yes</td>\n",
              "      <td>{'Monthly': 65.6, 'Total': '593.3'}</td>\n",
              "      <td>593.30</td>\n",
              "      <td>5</td>\n",
              "    </tr>\n",
              "    <tr>\n",
              "      <th>1</th>\n",
              "      <td>No</td>\n",
              "      <td>{'gender': 'Male', 'SeniorCitizen': 0, 'Partne...</td>\n",
              "      <td>{'PhoneService': 'Yes', 'MultipleLines': 'Yes'}</td>\n",
              "      <td>{'InternetService': 'DSL', 'OnlineSecurity': '...</td>\n",
              "      <td>{'Contract': 'Month-to-month', 'PaperlessBilli...</td>\n",
              "      <td>No</td>\n",
              "      <td>Male</td>\n",
              "      <td>0</td>\n",
              "      <td>9</td>\n",
              "      <td>No</td>\n",
              "      <td>...</td>\n",
              "      <td>No</td>\n",
              "      <td>No</td>\n",
              "      <td>No</td>\n",
              "      <td>DSL</td>\n",
              "      <td>Month-to-month</td>\n",
              "      <td>Mailed check</td>\n",
              "      <td>No</td>\n",
              "      <td>{'Monthly': 59.9, 'Total': '542.4'}</td>\n",
              "      <td>542.40</td>\n",
              "      <td>4</td>\n",
              "    </tr>\n",
              "    <tr>\n",
              "      <th>2</th>\n",
              "      <td>Yes</td>\n",
              "      <td>{'gender': 'Male', 'SeniorCitizen': 0, 'Partne...</td>\n",
              "      <td>{'PhoneService': 'Yes', 'MultipleLines': 'No'}</td>\n",
              "      <td>{'InternetService': 'Fiber optic', 'OnlineSecu...</td>\n",
              "      <td>{'Contract': 'Month-to-month', 'PaperlessBilli...</td>\n",
              "      <td>No</td>\n",
              "      <td>Male</td>\n",
              "      <td>0</td>\n",
              "      <td>4</td>\n",
              "      <td>No</td>\n",
              "      <td>...</td>\n",
              "      <td>Yes</td>\n",
              "      <td>No</td>\n",
              "      <td>No</td>\n",
              "      <td>Fiber optic</td>\n",
              "      <td>Month-to-month</td>\n",
              "      <td>Electronic check</td>\n",
              "      <td>Yes</td>\n",
              "      <td>{'Monthly': 73.9, 'Total': '280.85'}</td>\n",
              "      <td>280.85</td>\n",
              "      <td>3</td>\n",
              "    </tr>\n",
              "    <tr>\n",
              "      <th>3</th>\n",
              "      <td>Yes</td>\n",
              "      <td>{'gender': 'Male', 'SeniorCitizen': 1, 'Partne...</td>\n",
              "      <td>{'PhoneService': 'Yes', 'MultipleLines': 'No'}</td>\n",
              "      <td>{'InternetService': 'Fiber optic', 'OnlineSecu...</td>\n",
              "      <td>{'Contract': 'Month-to-month', 'PaperlessBilli...</td>\n",
              "      <td>No</td>\n",
              "      <td>Male</td>\n",
              "      <td>1</td>\n",
              "      <td>13</td>\n",
              "      <td>Yes</td>\n",
              "      <td>...</td>\n",
              "      <td>Yes</td>\n",
              "      <td>No</td>\n",
              "      <td>Yes</td>\n",
              "      <td>Fiber optic</td>\n",
              "      <td>Month-to-month</td>\n",
              "      <td>Electronic check</td>\n",
              "      <td>Yes</td>\n",
              "      <td>{'Monthly': 98.0, 'Total': '1237.85'}</td>\n",
              "      <td>1237.85</td>\n",
              "      <td>6</td>\n",
              "    </tr>\n",
              "    <tr>\n",
              "      <th>4</th>\n",
              "      <td>Yes</td>\n",
              "      <td>{'gender': 'Female', 'SeniorCitizen': 1, 'Part...</td>\n",
              "      <td>{'PhoneService': 'Yes', 'MultipleLines': 'No'}</td>\n",
              "      <td>{'InternetService': 'Fiber optic', 'OnlineSecu...</td>\n",
              "      <td>{'Contract': 'Month-to-month', 'PaperlessBilli...</td>\n",
              "      <td>No</td>\n",
              "      <td>Female</td>\n",
              "      <td>1</td>\n",
              "      <td>3</td>\n",
              "      <td>Yes</td>\n",
              "      <td>...</td>\n",
              "      <td>No</td>\n",
              "      <td>No</td>\n",
              "      <td>Yes</td>\n",
              "      <td>Fiber optic</td>\n",
              "      <td>Month-to-month</td>\n",
              "      <td>Mailed check</td>\n",
              "      <td>Yes</td>\n",
              "      <td>{'Monthly': 83.9, 'Total': '267.4'}</td>\n",
              "      <td>267.40</td>\n",
              "      <td>4</td>\n",
              "    </tr>\n",
              "  </tbody>\n",
              "</table>\n",
              "<p>5 rows × 25 columns</p>\n",
              "</div>\n",
              "    <div class=\"colab-df-buttons\">\n",
              "\n",
              "  <div class=\"colab-df-container\">\n",
              "    <button class=\"colab-df-convert\" onclick=\"convertToInteractive('df-b82e4cf8-5799-415a-8fba-b3ee1d709bf8')\"\n",
              "            title=\"Convert this dataframe to an interactive table.\"\n",
              "            style=\"display:none;\">\n",
              "\n",
              "  <svg xmlns=\"http://www.w3.org/2000/svg\" height=\"24px\" viewBox=\"0 -960 960 960\">\n",
              "    <path d=\"M120-120v-720h720v720H120Zm60-500h600v-160H180v160Zm220 220h160v-160H400v160Zm0 220h160v-160H400v160ZM180-400h160v-160H180v160Zm440 0h160v-160H620v160ZM180-180h160v-160H180v160Zm440 0h160v-160H620v160Z\"/>\n",
              "  </svg>\n",
              "    </button>\n",
              "\n",
              "  <style>\n",
              "    .colab-df-container {\n",
              "      display:flex;\n",
              "      gap: 12px;\n",
              "    }\n",
              "\n",
              "    .colab-df-convert {\n",
              "      background-color: #E8F0FE;\n",
              "      border: none;\n",
              "      border-radius: 50%;\n",
              "      cursor: pointer;\n",
              "      display: none;\n",
              "      fill: #1967D2;\n",
              "      height: 32px;\n",
              "      padding: 0 0 0 0;\n",
              "      width: 32px;\n",
              "    }\n",
              "\n",
              "    .colab-df-convert:hover {\n",
              "      background-color: #E2EBFA;\n",
              "      box-shadow: 0px 1px 2px rgba(60, 64, 67, 0.3), 0px 1px 3px 1px rgba(60, 64, 67, 0.15);\n",
              "      fill: #174EA6;\n",
              "    }\n",
              "\n",
              "    .colab-df-buttons div {\n",
              "      margin-bottom: 4px;\n",
              "    }\n",
              "\n",
              "    [theme=dark] .colab-df-convert {\n",
              "      background-color: #3B4455;\n",
              "      fill: #D2E3FC;\n",
              "    }\n",
              "\n",
              "    [theme=dark] .colab-df-convert:hover {\n",
              "      background-color: #434B5C;\n",
              "      box-shadow: 0px 1px 3px 1px rgba(0, 0, 0, 0.15);\n",
              "      filter: drop-shadow(0px 1px 2px rgba(0, 0, 0, 0.3));\n",
              "      fill: #FFFFFF;\n",
              "    }\n",
              "  </style>\n",
              "\n",
              "    <script>\n",
              "      const buttonEl =\n",
              "        document.querySelector('#df-b82e4cf8-5799-415a-8fba-b3ee1d709bf8 button.colab-df-convert');\n",
              "      buttonEl.style.display =\n",
              "        google.colab.kernel.accessAllowed ? 'block' : 'none';\n",
              "\n",
              "      async function convertToInteractive(key) {\n",
              "        const element = document.querySelector('#df-b82e4cf8-5799-415a-8fba-b3ee1d709bf8');\n",
              "        const dataTable =\n",
              "          await google.colab.kernel.invokeFunction('convertToInteractive',\n",
              "                                                    [key], {});\n",
              "        if (!dataTable) return;\n",
              "\n",
              "        const docLinkHtml = 'Like what you see? Visit the ' +\n",
              "          '<a target=\"_blank\" href=https://colab.research.google.com/notebooks/data_table.ipynb>data table notebook</a>'\n",
              "          + ' to learn more about interactive tables.';\n",
              "        element.innerHTML = '';\n",
              "        dataTable['output_type'] = 'display_data';\n",
              "        await google.colab.output.renderOutput(dataTable, element);\n",
              "        const docLink = document.createElement('div');\n",
              "        docLink.innerHTML = docLinkHtml;\n",
              "        element.appendChild(docLink);\n",
              "      }\n",
              "    </script>\n",
              "  </div>\n",
              "\n",
              "\n",
              "    <div id=\"df-caea393c-0788-4b9b-904a-5c054b4b5885\">\n",
              "      <button class=\"colab-df-quickchart\" onclick=\"quickchart('df-caea393c-0788-4b9b-904a-5c054b4b5885')\"\n",
              "                title=\"Suggest charts\"\n",
              "                style=\"display:none;\">\n",
              "\n",
              "<svg xmlns=\"http://www.w3.org/2000/svg\" height=\"24px\"viewBox=\"0 0 24 24\"\n",
              "     width=\"24px\">\n",
              "    <g>\n",
              "        <path d=\"M19 3H5c-1.1 0-2 .9-2 2v14c0 1.1.9 2 2 2h14c1.1 0 2-.9 2-2V5c0-1.1-.9-2-2-2zM9 17H7v-7h2v7zm4 0h-2V7h2v10zm4 0h-2v-4h2v4z\"/>\n",
              "    </g>\n",
              "</svg>\n",
              "      </button>\n",
              "\n",
              "<style>\n",
              "  .colab-df-quickchart {\n",
              "      --bg-color: #E8F0FE;\n",
              "      --fill-color: #1967D2;\n",
              "      --hover-bg-color: #E2EBFA;\n",
              "      --hover-fill-color: #174EA6;\n",
              "      --disabled-fill-color: #AAA;\n",
              "      --disabled-bg-color: #DDD;\n",
              "  }\n",
              "\n",
              "  [theme=dark] .colab-df-quickchart {\n",
              "      --bg-color: #3B4455;\n",
              "      --fill-color: #D2E3FC;\n",
              "      --hover-bg-color: #434B5C;\n",
              "      --hover-fill-color: #FFFFFF;\n",
              "      --disabled-bg-color: #3B4455;\n",
              "      --disabled-fill-color: #666;\n",
              "  }\n",
              "\n",
              "  .colab-df-quickchart {\n",
              "    background-color: var(--bg-color);\n",
              "    border: none;\n",
              "    border-radius: 50%;\n",
              "    cursor: pointer;\n",
              "    display: none;\n",
              "    fill: var(--fill-color);\n",
              "    height: 32px;\n",
              "    padding: 0;\n",
              "    width: 32px;\n",
              "  }\n",
              "\n",
              "  .colab-df-quickchart:hover {\n",
              "    background-color: var(--hover-bg-color);\n",
              "    box-shadow: 0 1px 2px rgba(60, 64, 67, 0.3), 0 1px 3px 1px rgba(60, 64, 67, 0.15);\n",
              "    fill: var(--button-hover-fill-color);\n",
              "  }\n",
              "\n",
              "  .colab-df-quickchart-complete:disabled,\n",
              "  .colab-df-quickchart-complete:disabled:hover {\n",
              "    background-color: var(--disabled-bg-color);\n",
              "    fill: var(--disabled-fill-color);\n",
              "    box-shadow: none;\n",
              "  }\n",
              "\n",
              "  .colab-df-spinner {\n",
              "    border: 2px solid var(--fill-color);\n",
              "    border-color: transparent;\n",
              "    border-bottom-color: var(--fill-color);\n",
              "    animation:\n",
              "      spin 1s steps(1) infinite;\n",
              "  }\n",
              "\n",
              "  @keyframes spin {\n",
              "    0% {\n",
              "      border-color: transparent;\n",
              "      border-bottom-color: var(--fill-color);\n",
              "      border-left-color: var(--fill-color);\n",
              "    }\n",
              "    20% {\n",
              "      border-color: transparent;\n",
              "      border-left-color: var(--fill-color);\n",
              "      border-top-color: var(--fill-color);\n",
              "    }\n",
              "    30% {\n",
              "      border-color: transparent;\n",
              "      border-left-color: var(--fill-color);\n",
              "      border-top-color: var(--fill-color);\n",
              "      border-right-color: var(--fill-color);\n",
              "    }\n",
              "    40% {\n",
              "      border-color: transparent;\n",
              "      border-right-color: var(--fill-color);\n",
              "      border-top-color: var(--fill-color);\n",
              "    }\n",
              "    60% {\n",
              "      border-color: transparent;\n",
              "      border-right-color: var(--fill-color);\n",
              "    }\n",
              "    80% {\n",
              "      border-color: transparent;\n",
              "      border-right-color: var(--fill-color);\n",
              "      border-bottom-color: var(--fill-color);\n",
              "    }\n",
              "    90% {\n",
              "      border-color: transparent;\n",
              "      border-bottom-color: var(--fill-color);\n",
              "    }\n",
              "  }\n",
              "</style>\n",
              "\n",
              "      <script>\n",
              "        async function quickchart(key) {\n",
              "          const quickchartButtonEl =\n",
              "            document.querySelector('#' + key + ' button');\n",
              "          quickchartButtonEl.disabled = true;  // To prevent multiple clicks.\n",
              "          quickchartButtonEl.classList.add('colab-df-spinner');\n",
              "          try {\n",
              "            const charts = await google.colab.kernel.invokeFunction(\n",
              "                'suggestCharts', [key], {});\n",
              "          } catch (error) {\n",
              "            console.error('Error during call to suggestCharts:', error);\n",
              "          }\n",
              "          quickchartButtonEl.classList.remove('colab-df-spinner');\n",
              "          quickchartButtonEl.classList.add('colab-df-quickchart-complete');\n",
              "        }\n",
              "        (() => {\n",
              "          let quickchartButtonEl =\n",
              "            document.querySelector('#df-caea393c-0788-4b9b-904a-5c054b4b5885 button');\n",
              "          quickchartButtonEl.style.display =\n",
              "            google.colab.kernel.accessAllowed ? 'block' : 'none';\n",
              "        })();\n",
              "      </script>\n",
              "    </div>\n",
              "\n",
              "    </div>\n",
              "  </div>\n"
            ],
            "application/vnd.google.colaboratory.intrinsic+json": {
              "type": "dataframe"
            }
          },
          "metadata": {}
        }
      ]
    },
    {
      "cell_type": "code",
      "metadata": {
        "colab": {
          "base_uri": "https://localhost:8080/",
          "height": 359
        },
        "id": "be88d3ad",
        "outputId": "1141bbb0-f7fa-44f6-f66e-17f390bcf190"
      },
      "source": [
        "categorical_cols = df.select_dtypes(include='object').columns.tolist()\n",
        "categorical_cols.remove('Churn')\n",
        "\n",
        "# Aplicar one-hot encoding a las columnas categóricas seleccionadas\n",
        "df_encoded = pd.get_dummies(df, columns=categorical_cols, drop_first=True)\n",
        "\n",
        "# Mostrar las primeras filas del DataFrame codificado\n",
        "print(\"DataFrame después de One-Hot Encoding:\")\n",
        "display(df_encoded.head())"
      ],
      "execution_count": 11,
      "outputs": [
        {
          "output_type": "stream",
          "name": "stdout",
          "text": [
            "DataFrame después de One-Hot Encoding:\n"
          ]
        },
        {
          "output_type": "display_data",
          "data": {
            "text/plain": [
              "  Churn  SeniorCitizen  tenure  TotalCharges  NumServices  \\\n",
              "0    No              0       9        593.30            5   \n",
              "1    No              0       9        542.40            4   \n",
              "2   Yes              0       4        280.85            3   \n",
              "3   Yes              1      13       1237.85            6   \n",
              "4   Yes              1       3        267.40            4   \n",
              "\n",
              "   customer_{'gender': 'Female', 'SeniorCitizen': 0, 'Partner': 'No', 'Dependents': 'No', 'tenure': 11}  \\\n",
              "0                                              False                                                      \n",
              "1                                              False                                                      \n",
              "2                                              False                                                      \n",
              "3                                              False                                                      \n",
              "4                                              False                                                      \n",
              "\n",
              "   customer_{'gender': 'Female', 'SeniorCitizen': 0, 'Partner': 'No', 'Dependents': 'No', 'tenure': 12}  \\\n",
              "0                                              False                                                      \n",
              "1                                              False                                                      \n",
              "2                                              False                                                      \n",
              "3                                              False                                                      \n",
              "4                                              False                                                      \n",
              "\n",
              "   customer_{'gender': 'Female', 'SeniorCitizen': 0, 'Partner': 'No', 'Dependents': 'No', 'tenure': 13}  \\\n",
              "0                                              False                                                      \n",
              "1                                              False                                                      \n",
              "2                                              False                                                      \n",
              "3                                              False                                                      \n",
              "4                                              False                                                      \n",
              "\n",
              "   customer_{'gender': 'Female', 'SeniorCitizen': 0, 'Partner': 'No', 'Dependents': 'No', 'tenure': 14}  \\\n",
              "0                                              False                                                      \n",
              "1                                              False                                                      \n",
              "2                                              False                                                      \n",
              "3                                              False                                                      \n",
              "4                                              False                                                      \n",
              "\n",
              "   customer_{'gender': 'Female', 'SeniorCitizen': 0, 'Partner': 'No', 'Dependents': 'No', 'tenure': 15}  \\\n",
              "0                                              False                                                      \n",
              "1                                              False                                                      \n",
              "2                                              False                                                      \n",
              "3                                              False                                                      \n",
              "4                                              False                                                      \n",
              "\n",
              "   ...  Charges_{'Monthly': 99.9, 'Total': '5706.3'}  \\\n",
              "0  ...                                         False   \n",
              "1  ...                                         False   \n",
              "2  ...                                         False   \n",
              "3  ...                                         False   \n",
              "4  ...                                         False   \n",
              "\n",
              "   Charges_{'Monthly': 99.9, 'Total': '6137'}  \\\n",
              "0                                       False   \n",
              "1                                       False   \n",
              "2                                       False   \n",
              "3                                       False   \n",
              "4                                       False   \n",
              "\n",
              "   Charges_{'Monthly': 99.9, 'Total': '6241.35'}  \\\n",
              "0                                          False   \n",
              "1                                          False   \n",
              "2                                          False   \n",
              "3                                          False   \n",
              "4                                          False   \n",
              "\n",
              "   Charges_{'Monthly': 99.9, 'Total': '7251.7'}  \\\n",
              "0                                         False   \n",
              "1                                         False   \n",
              "2                                         False   \n",
              "3                                         False   \n",
              "4                                         False   \n",
              "\n",
              "   Charges_{'Monthly': 99.95, 'Total': '1132.75'}  \\\n",
              "0                                           False   \n",
              "1                                           False   \n",
              "2                                           False   \n",
              "3                                           False   \n",
              "4                                           False   \n",
              "\n",
              "   Charges_{'Monthly': 99.95, 'Total': '1931.75'}  \\\n",
              "0                                           False   \n",
              "1                                           False   \n",
              "2                                           False   \n",
              "3                                           False   \n",
              "4                                           False   \n",
              "\n",
              "   Charges_{'Monthly': 99.95, 'Total': '2292.75'}  \\\n",
              "0                                           False   \n",
              "1                                           False   \n",
              "2                                           False   \n",
              "3                                           False   \n",
              "4                                           False   \n",
              "\n",
              "   Charges_{'Monthly': 99.95, 'Total': '3186.65'}  \\\n",
              "0                                           False   \n",
              "1                                           False   \n",
              "2                                           False   \n",
              "3                                           False   \n",
              "4                                           False   \n",
              "\n",
              "   Charges_{'Monthly': 99.95, 'Total': '3767.4'}  \\\n",
              "0                                          False   \n",
              "1                                          False   \n",
              "2                                          False   \n",
              "3                                          False   \n",
              "4                                          False   \n",
              "\n",
              "   Charges_{'Monthly': 99.95, 'Total': '547.65'}  \n",
              "0                                          False  \n",
              "1                                          False  \n",
              "2                                          False  \n",
              "3                                          False  \n",
              "4                                          False  \n",
              "\n",
              "[5 rows x 14771 columns]"
            ],
            "text/html": [
              "\n",
              "  <div id=\"df-a1831aca-c577-453f-89f7-8b7ce025d07c\" class=\"colab-df-container\">\n",
              "    <div>\n",
              "<style scoped>\n",
              "    .dataframe tbody tr th:only-of-type {\n",
              "        vertical-align: middle;\n",
              "    }\n",
              "\n",
              "    .dataframe tbody tr th {\n",
              "        vertical-align: top;\n",
              "    }\n",
              "\n",
              "    .dataframe thead th {\n",
              "        text-align: right;\n",
              "    }\n",
              "</style>\n",
              "<table border=\"1\" class=\"dataframe\">\n",
              "  <thead>\n",
              "    <tr style=\"text-align: right;\">\n",
              "      <th></th>\n",
              "      <th>Churn</th>\n",
              "      <th>SeniorCitizen</th>\n",
              "      <th>tenure</th>\n",
              "      <th>TotalCharges</th>\n",
              "      <th>NumServices</th>\n",
              "      <th>customer_{'gender': 'Female', 'SeniorCitizen': 0, 'Partner': 'No', 'Dependents': 'No', 'tenure': 11}</th>\n",
              "      <th>customer_{'gender': 'Female', 'SeniorCitizen': 0, 'Partner': 'No', 'Dependents': 'No', 'tenure': 12}</th>\n",
              "      <th>customer_{'gender': 'Female', 'SeniorCitizen': 0, 'Partner': 'No', 'Dependents': 'No', 'tenure': 13}</th>\n",
              "      <th>customer_{'gender': 'Female', 'SeniorCitizen': 0, 'Partner': 'No', 'Dependents': 'No', 'tenure': 14}</th>\n",
              "      <th>customer_{'gender': 'Female', 'SeniorCitizen': 0, 'Partner': 'No', 'Dependents': 'No', 'tenure': 15}</th>\n",
              "      <th>...</th>\n",
              "      <th>Charges_{'Monthly': 99.9, 'Total': '5706.3'}</th>\n",
              "      <th>Charges_{'Monthly': 99.9, 'Total': '6137'}</th>\n",
              "      <th>Charges_{'Monthly': 99.9, 'Total': '6241.35'}</th>\n",
              "      <th>Charges_{'Monthly': 99.9, 'Total': '7251.7'}</th>\n",
              "      <th>Charges_{'Monthly': 99.95, 'Total': '1132.75'}</th>\n",
              "      <th>Charges_{'Monthly': 99.95, 'Total': '1931.75'}</th>\n",
              "      <th>Charges_{'Monthly': 99.95, 'Total': '2292.75'}</th>\n",
              "      <th>Charges_{'Monthly': 99.95, 'Total': '3186.65'}</th>\n",
              "      <th>Charges_{'Monthly': 99.95, 'Total': '3767.4'}</th>\n",
              "      <th>Charges_{'Monthly': 99.95, 'Total': '547.65'}</th>\n",
              "    </tr>\n",
              "  </thead>\n",
              "  <tbody>\n",
              "    <tr>\n",
              "      <th>0</th>\n",
              "      <td>No</td>\n",
              "      <td>0</td>\n",
              "      <td>9</td>\n",
              "      <td>593.30</td>\n",
              "      <td>5</td>\n",
              "      <td>False</td>\n",
              "      <td>False</td>\n",
              "      <td>False</td>\n",
              "      <td>False</td>\n",
              "      <td>False</td>\n",
              "      <td>...</td>\n",
              "      <td>False</td>\n",
              "      <td>False</td>\n",
              "      <td>False</td>\n",
              "      <td>False</td>\n",
              "      <td>False</td>\n",
              "      <td>False</td>\n",
              "      <td>False</td>\n",
              "      <td>False</td>\n",
              "      <td>False</td>\n",
              "      <td>False</td>\n",
              "    </tr>\n",
              "    <tr>\n",
              "      <th>1</th>\n",
              "      <td>No</td>\n",
              "      <td>0</td>\n",
              "      <td>9</td>\n",
              "      <td>542.40</td>\n",
              "      <td>4</td>\n",
              "      <td>False</td>\n",
              "      <td>False</td>\n",
              "      <td>False</td>\n",
              "      <td>False</td>\n",
              "      <td>False</td>\n",
              "      <td>...</td>\n",
              "      <td>False</td>\n",
              "      <td>False</td>\n",
              "      <td>False</td>\n",
              "      <td>False</td>\n",
              "      <td>False</td>\n",
              "      <td>False</td>\n",
              "      <td>False</td>\n",
              "      <td>False</td>\n",
              "      <td>False</td>\n",
              "      <td>False</td>\n",
              "    </tr>\n",
              "    <tr>\n",
              "      <th>2</th>\n",
              "      <td>Yes</td>\n",
              "      <td>0</td>\n",
              "      <td>4</td>\n",
              "      <td>280.85</td>\n",
              "      <td>3</td>\n",
              "      <td>False</td>\n",
              "      <td>False</td>\n",
              "      <td>False</td>\n",
              "      <td>False</td>\n",
              "      <td>False</td>\n",
              "      <td>...</td>\n",
              "      <td>False</td>\n",
              "      <td>False</td>\n",
              "      <td>False</td>\n",
              "      <td>False</td>\n",
              "      <td>False</td>\n",
              "      <td>False</td>\n",
              "      <td>False</td>\n",
              "      <td>False</td>\n",
              "      <td>False</td>\n",
              "      <td>False</td>\n",
              "    </tr>\n",
              "    <tr>\n",
              "      <th>3</th>\n",
              "      <td>Yes</td>\n",
              "      <td>1</td>\n",
              "      <td>13</td>\n",
              "      <td>1237.85</td>\n",
              "      <td>6</td>\n",
              "      <td>False</td>\n",
              "      <td>False</td>\n",
              "      <td>False</td>\n",
              "      <td>False</td>\n",
              "      <td>False</td>\n",
              "      <td>...</td>\n",
              "      <td>False</td>\n",
              "      <td>False</td>\n",
              "      <td>False</td>\n",
              "      <td>False</td>\n",
              "      <td>False</td>\n",
              "      <td>False</td>\n",
              "      <td>False</td>\n",
              "      <td>False</td>\n",
              "      <td>False</td>\n",
              "      <td>False</td>\n",
              "    </tr>\n",
              "    <tr>\n",
              "      <th>4</th>\n",
              "      <td>Yes</td>\n",
              "      <td>1</td>\n",
              "      <td>3</td>\n",
              "      <td>267.40</td>\n",
              "      <td>4</td>\n",
              "      <td>False</td>\n",
              "      <td>False</td>\n",
              "      <td>False</td>\n",
              "      <td>False</td>\n",
              "      <td>False</td>\n",
              "      <td>...</td>\n",
              "      <td>False</td>\n",
              "      <td>False</td>\n",
              "      <td>False</td>\n",
              "      <td>False</td>\n",
              "      <td>False</td>\n",
              "      <td>False</td>\n",
              "      <td>False</td>\n",
              "      <td>False</td>\n",
              "      <td>False</td>\n",
              "      <td>False</td>\n",
              "    </tr>\n",
              "  </tbody>\n",
              "</table>\n",
              "<p>5 rows × 14771 columns</p>\n",
              "</div>\n",
              "    <div class=\"colab-df-buttons\">\n",
              "\n",
              "  <div class=\"colab-df-container\">\n",
              "    <button class=\"colab-df-convert\" onclick=\"convertToInteractive('df-a1831aca-c577-453f-89f7-8b7ce025d07c')\"\n",
              "            title=\"Convert this dataframe to an interactive table.\"\n",
              "            style=\"display:none;\">\n",
              "\n",
              "  <svg xmlns=\"http://www.w3.org/2000/svg\" height=\"24px\" viewBox=\"0 -960 960 960\">\n",
              "    <path d=\"M120-120v-720h720v720H120Zm60-500h600v-160H180v160Zm220 220h160v-160H400v160Zm0 220h160v-160H400v160ZM180-400h160v-160H180v160Zm440 0h160v-160H620v160ZM180-180h160v-160H180v160Zm440 0h160v-160H620v160Z\"/>\n",
              "  </svg>\n",
              "    </button>\n",
              "\n",
              "  <style>\n",
              "    .colab-df-container {\n",
              "      display:flex;\n",
              "      gap: 12px;\n",
              "    }\n",
              "\n",
              "    .colab-df-convert {\n",
              "      background-color: #E8F0FE;\n",
              "      border: none;\n",
              "      border-radius: 50%;\n",
              "      cursor: pointer;\n",
              "      display: none;\n",
              "      fill: #1967D2;\n",
              "      height: 32px;\n",
              "      padding: 0 0 0 0;\n",
              "      width: 32px;\n",
              "    }\n",
              "\n",
              "    .colab-df-convert:hover {\n",
              "      background-color: #E2EBFA;\n",
              "      box-shadow: 0px 1px 2px rgba(60, 64, 67, 0.3), 0px 1px 3px 1px rgba(60, 64, 67, 0.15);\n",
              "      fill: #174EA6;\n",
              "    }\n",
              "\n",
              "    .colab-df-buttons div {\n",
              "      margin-bottom: 4px;\n",
              "    }\n",
              "\n",
              "    [theme=dark] .colab-df-convert {\n",
              "      background-color: #3B4455;\n",
              "      fill: #D2E3FC;\n",
              "    }\n",
              "\n",
              "    [theme=dark] .colab-df-convert:hover {\n",
              "      background-color: #434B5C;\n",
              "      box-shadow: 0px 1px 3px 1px rgba(0, 0, 0, 0.15);\n",
              "      filter: drop-shadow(0px 1px 2px rgba(0, 0, 0, 0.3));\n",
              "      fill: #FFFFFF;\n",
              "    }\n",
              "  </style>\n",
              "\n",
              "    <script>\n",
              "      const buttonEl =\n",
              "        document.querySelector('#df-a1831aca-c577-453f-89f7-8b7ce025d07c button.colab-df-convert');\n",
              "      buttonEl.style.display =\n",
              "        google.colab.kernel.accessAllowed ? 'block' : 'none';\n",
              "\n",
              "      async function convertToInteractive(key) {\n",
              "        const element = document.querySelector('#df-a1831aca-c577-453f-89f7-8b7ce025d07c');\n",
              "        const dataTable =\n",
              "          await google.colab.kernel.invokeFunction('convertToInteractive',\n",
              "                                                    [key], {});\n",
              "        if (!dataTable) return;\n",
              "\n",
              "        const docLinkHtml = 'Like what you see? Visit the ' +\n",
              "          '<a target=\"_blank\" href=https://colab.research.google.com/notebooks/data_table.ipynb>data table notebook</a>'\n",
              "          + ' to learn more about interactive tables.';\n",
              "        element.innerHTML = '';\n",
              "        dataTable['output_type'] = 'display_data';\n",
              "        await google.colab.output.renderOutput(dataTable, element);\n",
              "        const docLink = document.createElement('div');\n",
              "        docLink.innerHTML = docLinkHtml;\n",
              "        element.appendChild(docLink);\n",
              "      }\n",
              "    </script>\n",
              "  </div>\n",
              "\n",
              "\n",
              "    <div id=\"df-1133b87f-6439-48e9-a095-e7e31b77cca5\">\n",
              "      <button class=\"colab-df-quickchart\" onclick=\"quickchart('df-1133b87f-6439-48e9-a095-e7e31b77cca5')\"\n",
              "                title=\"Suggest charts\"\n",
              "                style=\"display:none;\">\n",
              "\n",
              "<svg xmlns=\"http://www.w3.org/2000/svg\" height=\"24px\"viewBox=\"0 0 24 24\"\n",
              "     width=\"24px\">\n",
              "    <g>\n",
              "        <path d=\"M19 3H5c-1.1 0-2 .9-2 2v14c0 1.1.9 2 2 2h14c1.1 0 2-.9 2-2V5c0-1.1-.9-2-2-2zM9 17H7v-7h2v7zm4 0h-2V7h2v10zm4 0h-2v-4h2v4z\"/>\n",
              "    </g>\n",
              "</svg>\n",
              "      </button>\n",
              "\n",
              "<style>\n",
              "  .colab-df-quickchart {\n",
              "      --bg-color: #E8F0FE;\n",
              "      --fill-color: #1967D2;\n",
              "      --hover-bg-color: #E2EBFA;\n",
              "      --hover-fill-color: #174EA6;\n",
              "      --disabled-fill-color: #AAA;\n",
              "      --disabled-bg-color: #DDD;\n",
              "  }\n",
              "\n",
              "  [theme=dark] .colab-df-quickchart {\n",
              "      --bg-color: #3B4455;\n",
              "      --fill-color: #D2E3FC;\n",
              "      --hover-bg-color: #434B5C;\n",
              "      --hover-fill-color: #FFFFFF;\n",
              "      --disabled-bg-color: #3B4455;\n",
              "      --disabled-fill-color: #666;\n",
              "  }\n",
              "\n",
              "  .colab-df-quickchart {\n",
              "    background-color: var(--bg-color);\n",
              "    border: none;\n",
              "    border-radius: 50%;\n",
              "    cursor: pointer;\n",
              "    display: none;\n",
              "    fill: var(--fill-color);\n",
              "    height: 32px;\n",
              "    padding: 0;\n",
              "    width: 32px;\n",
              "  }\n",
              "\n",
              "  .colab-df-quickchart:hover {\n",
              "    background-color: var(--hover-bg-color);\n",
              "    box-shadow: 0 1px 2px rgba(60, 64, 67, 0.3), 0 1px 3px 1px rgba(60, 64, 67, 0.15);\n",
              "    fill: var(--button-hover-fill-color);\n",
              "  }\n",
              "\n",
              "  .colab-df-quickchart-complete:disabled,\n",
              "  .colab-df-quickchart-complete:disabled:hover {\n",
              "    background-color: var(--disabled-bg-color);\n",
              "    fill: var(--disabled-fill-color);\n",
              "    box-shadow: none;\n",
              "  }\n",
              "\n",
              "  .colab-df-spinner {\n",
              "    border: 2px solid var(--fill-color);\n",
              "    border-color: transparent;\n",
              "    border-bottom-color: var(--fill-color);\n",
              "    animation:\n",
              "      spin 1s steps(1) infinite;\n",
              "  }\n",
              "\n",
              "  @keyframes spin {\n",
              "    0% {\n",
              "      border-color: transparent;\n",
              "      border-bottom-color: var(--fill-color);\n",
              "      border-left-color: var(--fill-color);\n",
              "    }\n",
              "    20% {\n",
              "      border-color: transparent;\n",
              "      border-left-color: var(--fill-color);\n",
              "      border-top-color: var(--fill-color);\n",
              "    }\n",
              "    30% {\n",
              "      border-color: transparent;\n",
              "      border-left-color: var(--fill-color);\n",
              "      border-top-color: var(--fill-color);\n",
              "      border-right-color: var(--fill-color);\n",
              "    }\n",
              "    40% {\n",
              "      border-color: transparent;\n",
              "      border-right-color: var(--fill-color);\n",
              "      border-top-color: var(--fill-color);\n",
              "    }\n",
              "    60% {\n",
              "      border-color: transparent;\n",
              "      border-right-color: var(--fill-color);\n",
              "    }\n",
              "    80% {\n",
              "      border-color: transparent;\n",
              "      border-right-color: var(--fill-color);\n",
              "      border-bottom-color: var(--fill-color);\n",
              "    }\n",
              "    90% {\n",
              "      border-color: transparent;\n",
              "      border-bottom-color: var(--fill-color);\n",
              "    }\n",
              "  }\n",
              "</style>\n",
              "\n",
              "      <script>\n",
              "        async function quickchart(key) {\n",
              "          const quickchartButtonEl =\n",
              "            document.querySelector('#' + key + ' button');\n",
              "          quickchartButtonEl.disabled = true;  // To prevent multiple clicks.\n",
              "          quickchartButtonEl.classList.add('colab-df-spinner');\n",
              "          try {\n",
              "            const charts = await google.colab.kernel.invokeFunction(\n",
              "                'suggestCharts', [key], {});\n",
              "          } catch (error) {\n",
              "            console.error('Error during call to suggestCharts:', error);\n",
              "          }\n",
              "          quickchartButtonEl.classList.remove('colab-df-spinner');\n",
              "          quickchartButtonEl.classList.add('colab-df-quickchart-complete');\n",
              "        }\n",
              "        (() => {\n",
              "          let quickchartButtonEl =\n",
              "            document.querySelector('#df-1133b87f-6439-48e9-a095-e7e31b77cca5 button');\n",
              "          quickchartButtonEl.style.display =\n",
              "            google.colab.kernel.accessAllowed ? 'block' : 'none';\n",
              "        })();\n",
              "      </script>\n",
              "    </div>\n",
              "\n",
              "    </div>\n",
              "  </div>\n"
            ],
            "application/vnd.google.colaboratory.intrinsic+json": {
              "type": "dataframe"
            }
          },
          "metadata": {}
        }
      ]
    },
    {
      "cell_type": "code",
      "metadata": {
        "colab": {
          "base_uri": "https://localhost:8080/"
        },
        "id": "27a399b6",
        "outputId": "71cf46ef-d500-4047-d3e8-d2752a6df7b5"
      },
      "source": [
        "# Calcular la proporción de clientes que han causado baja (churn)\n",
        "churn_counts = df_encoded['Churn'].value_counts()\n",
        "churn_proportion = churn_counts / len(df_encoded)\n",
        "\n",
        "print(\"Proporción de clientes que han causado baja:\")\n",
        "print(churn_proportion)\n",
        "\n",
        "# Verificar si hay un desequilibrio de clases significativo\n",
        "if churn_proportion['Yes'] > 0.75 or churn_proportion['No'] > 0.75:\n",
        "    print(\"\\nPodría haber un desequilibrio de clases significativo.\")\n",
        "else:\n",
        "    print(\"\\nLa distribución de clases parece relativamente equilibrada.\")"
      ],
      "execution_count": 12,
      "outputs": [
        {
          "output_type": "stream",
          "name": "stdout",
          "text": [
            "Proporción de clientes que han causado baja:\n",
            "Churn\n",
            "No     0.74281\n",
            "Yes    0.25719\n",
            "Name: count, dtype: float64\n",
            "\n",
            "La distribución de clases parece relativamente equilibrada.\n"
          ]
        }
      ]
    },
    {
      "cell_type": "markdown",
      "metadata": {
        "id": "29a8c036"
      },
      "source": [
        "# Tarea\n",
        "Balancear los datos de entrenamiento usando SMOTE y evaluar la distribución de clases después del balanceo.\n"
      ]
    },
    {
      "cell_type": "markdown",
      "metadata": {
        "id": "c210b62b"
      },
      "source": [
        "## Separar características y variable objetivo\n",
        "\n",
        "### Subtarea:\n",
        "Dividir el DataFrame en características (X) y la variable objetivo (y)."
      ]
    },
    {
      "cell_type": "markdown",
      "metadata": {
        "id": "c6161502"
      },
      "source": [
        "**Razonamiento**:\n",
        "Dividir el DataFrame en características (X) y la variable objetivo (y) eliminando la columna 'Churn' para X y seleccionando solo la columna 'Churn' para y.\n",
        "\n"
      ]
    },
    {
      "cell_type": "code",
      "metadata": {
        "colab": {
          "base_uri": "https://localhost:8080/"
        },
        "id": "3110badf",
        "outputId": "c8800bc6-8e3e-4657-91c6-5c7a87360809"
      },
      "source": [
        "X = df_encoded.drop('Churn', axis=1)\n",
        "y = df_encoded['Churn']\n",
        "\n",
        "print(\"Forma de las características (X):\", X.shape)\n",
        "print(\"Forma de la variable objetivo (y):\", y.shape)"
      ],
      "execution_count": 13,
      "outputs": [
        {
          "output_type": "stream",
          "name": "stdout",
          "text": [
            "Forma de las características (X): (7267, 14770)\n",
            "Forma de la variable objetivo (y): (7267,)\n"
          ]
        }
      ]
    },
    {
      "cell_type": "markdown",
      "metadata": {
        "id": "bb6b98a9"
      },
      "source": [
        "## Dividir datos\n",
        "\n",
        "### Subtarea:\n",
        "Dividir los datos en conjuntos de entrenamiento y prueba.\n"
      ]
    },
    {
      "cell_type": "markdown",
      "metadata": {
        "id": "2c447b90"
      },
      "source": [
        "**Razonamiento**:\n",
        "Dividir los datos en conjuntos de entrenamiento y prueba usando `train_test_split` y mostrar las formas de los conjuntos resultantes.\n",
        "\n"
      ]
    },
    {
      "cell_type": "code",
      "metadata": {
        "colab": {
          "base_uri": "https://localhost:8080/"
        },
        "id": "7298d944",
        "outputId": "24d1c3b6-ab31-4b00-ea0b-3986a8d0205e"
      },
      "source": [
        "from sklearn.model_selection import train_test_split\n",
        "\n",
        "X_train, X_test, y_train, y_test = train_test_split(X, y, test_size=0.2, random_state=42)\n",
        "\n",
        "print(\"Forma de X_train:\", X_train.shape)\n",
        "print(\"Forma de X_test:\", X_test.shape)\n",
        "print(\"Forma de y_train:\", y_train.shape)\n",
        "print(\"Forma de y_test:\", y_test.shape)"
      ],
      "execution_count": 14,
      "outputs": [
        {
          "output_type": "stream",
          "name": "stdout",
          "text": [
            "Forma de X_train: (5813, 14770)\n",
            "Forma de X_test: (1454, 14770)\n",
            "Forma de y_train: (5813,)\n",
            "Forma de y_test: (1454,)\n"
          ]
        }
      ]
    },
    {
      "cell_type": "markdown",
      "metadata": {
        "id": "17246b73"
      },
      "source": [
        "## Aplicar SMOTE (sobremuestreo)\n",
        "\n",
        "### Subtarea:\n",
        "Aplicar SMOTE a los datos de entrenamiento para sobremuestrear la clase minoritaria ('Yes').\n",
        "\n",
        "\n"
      ]
    },
    {
      "cell_type": "markdown",
      "metadata": {
        "id": "e771c55b"
      },
      "source": [
        "**Razonamiento**:\n",
        "Aplicar SMOTE a los datos de entrenamiento para sobremuestrear la clase minoritaria ('Yes') y almacenar los datos remuestreados en nuevas variables.\n",
        "\n"
      ]
    },
    {
      "cell_type": "code",
      "metadata": {
        "colab": {
          "base_uri": "https://localhost:8080/",
          "height": 460
        },
        "id": "1ccf1b6b",
        "outputId": "79e13d2c-31c3-44a1-abdb-79e3859023cb"
      },
      "source": [
        "from imblearn.over_sampling import SMOTE\n",
        "\n",
        "# Instanciar SMOTE\n",
        "smote = SMOTE(random_state=42)\n",
        "\n",
        "# Aplicar SMOTE a los datos de entrenamiento\n",
        "X_train_resampled, y_train_resampled = smote.fit_resample(X_train, y_train)\n",
        "\n",
        "print(\"Forma de X_train_resampled:\", X_train_resampled.shape)\n",
        "print(\"Forma de y_train_resampled:\", y_train_resampled.shape)"
      ],
      "execution_count": 16,
      "outputs": [
        {
          "output_type": "error",
          "ename": "ValueError",
          "evalue": "Input X contains NaN.\nSMOTE does not accept missing values encoded as NaN natively. For supervised learning, you might want to consider sklearn.ensemble.HistGradientBoostingClassifier and Regressor which accept missing values encoded as NaNs natively. Alternatively, it is possible to preprocess the data, for instance by using an imputer transformer in a pipeline or drop samples with missing values. See https://scikit-learn.org/stable/modules/impute.html You can find a list of all estimators that handle NaN values at the following page: https://scikit-learn.org/stable/modules/impute.html#estimators-that-handle-nan-values",
          "traceback": [
            "\u001b[0;31m---------------------------------------------------------------------------\u001b[0m",
            "\u001b[0;31mValueError\u001b[0m                                Traceback (most recent call last)",
            "\u001b[0;32m/tmp/ipython-input-1919474363.py\u001b[0m in \u001b[0;36m<cell line: 0>\u001b[0;34m()\u001b[0m\n\u001b[1;32m      5\u001b[0m \u001b[0;34m\u001b[0m\u001b[0m\n\u001b[1;32m      6\u001b[0m \u001b[0;31m# Aplicar SMOTE a los datos de entrenamiento\u001b[0m\u001b[0;34m\u001b[0m\u001b[0;34m\u001b[0m\u001b[0m\n\u001b[0;32m----> 7\u001b[0;31m \u001b[0mX_train_resampled\u001b[0m\u001b[0;34m,\u001b[0m \u001b[0my_train_resampled\u001b[0m \u001b[0;34m=\u001b[0m \u001b[0msmote\u001b[0m\u001b[0;34m.\u001b[0m\u001b[0mfit_resample\u001b[0m\u001b[0;34m(\u001b[0m\u001b[0mX_train\u001b[0m\u001b[0;34m,\u001b[0m \u001b[0my_train\u001b[0m\u001b[0;34m)\u001b[0m\u001b[0;34m\u001b[0m\u001b[0;34m\u001b[0m\u001b[0m\n\u001b[0m\u001b[1;32m      8\u001b[0m \u001b[0;34m\u001b[0m\u001b[0m\n\u001b[1;32m      9\u001b[0m \u001b[0mprint\u001b[0m\u001b[0;34m(\u001b[0m\u001b[0;34m\"Forma de X_train_resampled:\"\u001b[0m\u001b[0;34m,\u001b[0m \u001b[0mX_train_resampled\u001b[0m\u001b[0;34m.\u001b[0m\u001b[0mshape\u001b[0m\u001b[0;34m)\u001b[0m\u001b[0;34m\u001b[0m\u001b[0;34m\u001b[0m\u001b[0m\n",
            "\u001b[0;32m/usr/local/lib/python3.12/dist-packages/imblearn/base.py\u001b[0m in \u001b[0;36mfit_resample\u001b[0;34m(self, X, y, **params)\u001b[0m\n\u001b[1;32m    200\u001b[0m             \u001b[0mThe\u001b[0m \u001b[0mcorresponding\u001b[0m \u001b[0mlabel\u001b[0m \u001b[0mof\u001b[0m\u001b[0;31m \u001b[0m\u001b[0;31m`\u001b[0m\u001b[0mX_resampled\u001b[0m\u001b[0;31m`\u001b[0m\u001b[0;34m.\u001b[0m\u001b[0;34m\u001b[0m\u001b[0;34m\u001b[0m\u001b[0m\n\u001b[1;32m    201\u001b[0m         \"\"\"\n\u001b[0;32m--> 202\u001b[0;31m         \u001b[0;32mreturn\u001b[0m \u001b[0msuper\u001b[0m\u001b[0;34m(\u001b[0m\u001b[0;34m)\u001b[0m\u001b[0;34m.\u001b[0m\u001b[0mfit_resample\u001b[0m\u001b[0;34m(\u001b[0m\u001b[0mX\u001b[0m\u001b[0;34m,\u001b[0m \u001b[0my\u001b[0m\u001b[0;34m,\u001b[0m \u001b[0;34m**\u001b[0m\u001b[0mparams\u001b[0m\u001b[0;34m)\u001b[0m\u001b[0;34m\u001b[0m\u001b[0;34m\u001b[0m\u001b[0m\n\u001b[0m\u001b[1;32m    203\u001b[0m \u001b[0;34m\u001b[0m\u001b[0m\n\u001b[1;32m    204\u001b[0m     \u001b[0;32mdef\u001b[0m \u001b[0m_more_tags\u001b[0m\u001b[0;34m(\u001b[0m\u001b[0mself\u001b[0m\u001b[0;34m)\u001b[0m\u001b[0;34m:\u001b[0m\u001b[0;34m\u001b[0m\u001b[0;34m\u001b[0m\u001b[0m\n",
            "\u001b[0;32m/usr/local/lib/python3.12/dist-packages/sklearn/base.py\u001b[0m in \u001b[0;36mwrapper\u001b[0;34m(estimator, *args, **kwargs)\u001b[0m\n\u001b[1;32m   1387\u001b[0m                 )\n\u001b[1;32m   1388\u001b[0m             ):\n\u001b[0;32m-> 1389\u001b[0;31m                 \u001b[0;32mreturn\u001b[0m \u001b[0mfit_method\u001b[0m\u001b[0;34m(\u001b[0m\u001b[0mestimator\u001b[0m\u001b[0;34m,\u001b[0m \u001b[0;34m*\u001b[0m\u001b[0margs\u001b[0m\u001b[0;34m,\u001b[0m \u001b[0;34m**\u001b[0m\u001b[0mkwargs\u001b[0m\u001b[0;34m)\u001b[0m\u001b[0;34m\u001b[0m\u001b[0;34m\u001b[0m\u001b[0m\n\u001b[0m\u001b[1;32m   1390\u001b[0m \u001b[0;34m\u001b[0m\u001b[0m\n\u001b[1;32m   1391\u001b[0m         \u001b[0;32mreturn\u001b[0m \u001b[0mwrapper\u001b[0m\u001b[0;34m\u001b[0m\u001b[0;34m\u001b[0m\u001b[0m\n",
            "\u001b[0;32m/usr/local/lib/python3.12/dist-packages/imblearn/base.py\u001b[0m in \u001b[0;36mfit_resample\u001b[0;34m(self, X, y, **params)\u001b[0m\n\u001b[1;32m     97\u001b[0m         \u001b[0mcheck_classification_targets\u001b[0m\u001b[0;34m(\u001b[0m\u001b[0my\u001b[0m\u001b[0;34m)\u001b[0m\u001b[0;34m\u001b[0m\u001b[0;34m\u001b[0m\u001b[0m\n\u001b[1;32m     98\u001b[0m         \u001b[0marrays_transformer\u001b[0m \u001b[0;34m=\u001b[0m \u001b[0mArraysTransformer\u001b[0m\u001b[0;34m(\u001b[0m\u001b[0mX\u001b[0m\u001b[0;34m,\u001b[0m \u001b[0my\u001b[0m\u001b[0;34m)\u001b[0m\u001b[0;34m\u001b[0m\u001b[0;34m\u001b[0m\u001b[0m\n\u001b[0;32m---> 99\u001b[0;31m         \u001b[0mX\u001b[0m\u001b[0;34m,\u001b[0m \u001b[0my\u001b[0m\u001b[0;34m,\u001b[0m \u001b[0mbinarize_y\u001b[0m \u001b[0;34m=\u001b[0m \u001b[0mself\u001b[0m\u001b[0;34m.\u001b[0m\u001b[0m_check_X_y\u001b[0m\u001b[0;34m(\u001b[0m\u001b[0mX\u001b[0m\u001b[0;34m,\u001b[0m \u001b[0my\u001b[0m\u001b[0;34m)\u001b[0m\u001b[0;34m\u001b[0m\u001b[0;34m\u001b[0m\u001b[0m\n\u001b[0m\u001b[1;32m    100\u001b[0m \u001b[0;34m\u001b[0m\u001b[0m\n\u001b[1;32m    101\u001b[0m         self.sampling_strategy_ = check_sampling_strategy(\n",
            "\u001b[0;32m/usr/local/lib/python3.12/dist-packages/imblearn/base.py\u001b[0m in \u001b[0;36m_check_X_y\u001b[0;34m(self, X, y, accept_sparse)\u001b[0m\n\u001b[1;32m    155\u001b[0m             \u001b[0maccept_sparse\u001b[0m \u001b[0;34m=\u001b[0m \u001b[0;34m[\u001b[0m\u001b[0;34m\"csr\"\u001b[0m\u001b[0;34m,\u001b[0m \u001b[0;34m\"csc\"\u001b[0m\u001b[0;34m]\u001b[0m\u001b[0;34m\u001b[0m\u001b[0;34m\u001b[0m\u001b[0m\n\u001b[1;32m    156\u001b[0m         \u001b[0my\u001b[0m\u001b[0;34m,\u001b[0m \u001b[0mbinarize_y\u001b[0m \u001b[0;34m=\u001b[0m \u001b[0mcheck_target_type\u001b[0m\u001b[0;34m(\u001b[0m\u001b[0my\u001b[0m\u001b[0;34m,\u001b[0m \u001b[0mindicate_one_vs_all\u001b[0m\u001b[0;34m=\u001b[0m\u001b[0;32mTrue\u001b[0m\u001b[0;34m)\u001b[0m\u001b[0;34m\u001b[0m\u001b[0;34m\u001b[0m\u001b[0m\n\u001b[0;32m--> 157\u001b[0;31m         \u001b[0mX\u001b[0m\u001b[0;34m,\u001b[0m \u001b[0my\u001b[0m \u001b[0;34m=\u001b[0m \u001b[0mvalidate_data\u001b[0m\u001b[0;34m(\u001b[0m\u001b[0mself\u001b[0m\u001b[0;34m,\u001b[0m \u001b[0mX\u001b[0m\u001b[0;34m=\u001b[0m\u001b[0mX\u001b[0m\u001b[0;34m,\u001b[0m \u001b[0my\u001b[0m\u001b[0;34m=\u001b[0m\u001b[0my\u001b[0m\u001b[0;34m,\u001b[0m \u001b[0mreset\u001b[0m\u001b[0;34m=\u001b[0m\u001b[0;32mTrue\u001b[0m\u001b[0;34m,\u001b[0m \u001b[0maccept_sparse\u001b[0m\u001b[0;34m=\u001b[0m\u001b[0maccept_sparse\u001b[0m\u001b[0;34m)\u001b[0m\u001b[0;34m\u001b[0m\u001b[0;34m\u001b[0m\u001b[0m\n\u001b[0m\u001b[1;32m    158\u001b[0m         \u001b[0;32mreturn\u001b[0m \u001b[0mX\u001b[0m\u001b[0;34m,\u001b[0m \u001b[0my\u001b[0m\u001b[0;34m,\u001b[0m \u001b[0mbinarize_y\u001b[0m\u001b[0;34m\u001b[0m\u001b[0;34m\u001b[0m\u001b[0m\n\u001b[1;32m    159\u001b[0m \u001b[0;34m\u001b[0m\u001b[0m\n",
            "\u001b[0;32m/usr/local/lib/python3.12/dist-packages/sklearn/utils/validation.py\u001b[0m in \u001b[0;36mvalidate_data\u001b[0;34m(_estimator, X, y, reset, validate_separately, skip_check_array, **check_params)\u001b[0m\n\u001b[1;32m   2959\u001b[0m             \u001b[0my\u001b[0m \u001b[0;34m=\u001b[0m \u001b[0mcheck_array\u001b[0m\u001b[0;34m(\u001b[0m\u001b[0my\u001b[0m\u001b[0;34m,\u001b[0m \u001b[0minput_name\u001b[0m\u001b[0;34m=\u001b[0m\u001b[0;34m\"y\"\u001b[0m\u001b[0;34m,\u001b[0m \u001b[0;34m**\u001b[0m\u001b[0mcheck_y_params\u001b[0m\u001b[0;34m)\u001b[0m\u001b[0;34m\u001b[0m\u001b[0;34m\u001b[0m\u001b[0m\n\u001b[1;32m   2960\u001b[0m         \u001b[0;32melse\u001b[0m\u001b[0;34m:\u001b[0m\u001b[0;34m\u001b[0m\u001b[0;34m\u001b[0m\u001b[0m\n\u001b[0;32m-> 2961\u001b[0;31m             \u001b[0mX\u001b[0m\u001b[0;34m,\u001b[0m \u001b[0my\u001b[0m \u001b[0;34m=\u001b[0m \u001b[0mcheck_X_y\u001b[0m\u001b[0;34m(\u001b[0m\u001b[0mX\u001b[0m\u001b[0;34m,\u001b[0m \u001b[0my\u001b[0m\u001b[0;34m,\u001b[0m \u001b[0;34m**\u001b[0m\u001b[0mcheck_params\u001b[0m\u001b[0;34m)\u001b[0m\u001b[0;34m\u001b[0m\u001b[0;34m\u001b[0m\u001b[0m\n\u001b[0m\u001b[1;32m   2962\u001b[0m         \u001b[0mout\u001b[0m \u001b[0;34m=\u001b[0m \u001b[0mX\u001b[0m\u001b[0;34m,\u001b[0m \u001b[0my\u001b[0m\u001b[0;34m\u001b[0m\u001b[0;34m\u001b[0m\u001b[0m\n\u001b[1;32m   2963\u001b[0m \u001b[0;34m\u001b[0m\u001b[0m\n",
            "\u001b[0;32m/usr/local/lib/python3.12/dist-packages/sklearn/utils/validation.py\u001b[0m in \u001b[0;36mcheck_X_y\u001b[0;34m(X, y, accept_sparse, accept_large_sparse, dtype, order, copy, force_writeable, force_all_finite, ensure_all_finite, ensure_2d, allow_nd, multi_output, ensure_min_samples, ensure_min_features, y_numeric, estimator)\u001b[0m\n\u001b[1;32m   1368\u001b[0m     \u001b[0mensure_all_finite\u001b[0m \u001b[0;34m=\u001b[0m \u001b[0m_deprecate_force_all_finite\u001b[0m\u001b[0;34m(\u001b[0m\u001b[0mforce_all_finite\u001b[0m\u001b[0;34m,\u001b[0m \u001b[0mensure_all_finite\u001b[0m\u001b[0;34m)\u001b[0m\u001b[0;34m\u001b[0m\u001b[0;34m\u001b[0m\u001b[0m\n\u001b[1;32m   1369\u001b[0m \u001b[0;34m\u001b[0m\u001b[0m\n\u001b[0;32m-> 1370\u001b[0;31m     X = check_array(\n\u001b[0m\u001b[1;32m   1371\u001b[0m         \u001b[0mX\u001b[0m\u001b[0;34m,\u001b[0m\u001b[0;34m\u001b[0m\u001b[0;34m\u001b[0m\u001b[0m\n\u001b[1;32m   1372\u001b[0m         \u001b[0maccept_sparse\u001b[0m\u001b[0;34m=\u001b[0m\u001b[0maccept_sparse\u001b[0m\u001b[0;34m,\u001b[0m\u001b[0;34m\u001b[0m\u001b[0;34m\u001b[0m\u001b[0m\n",
            "\u001b[0;32m/usr/local/lib/python3.12/dist-packages/sklearn/utils/validation.py\u001b[0m in \u001b[0;36mcheck_array\u001b[0;34m(array, accept_sparse, accept_large_sparse, dtype, order, copy, force_writeable, force_all_finite, ensure_all_finite, ensure_non_negative, ensure_2d, allow_nd, ensure_min_samples, ensure_min_features, estimator, input_name)\u001b[0m\n\u001b[1;32m   1105\u001b[0m \u001b[0;34m\u001b[0m\u001b[0m\n\u001b[1;32m   1106\u001b[0m         \u001b[0;32mif\u001b[0m \u001b[0mensure_all_finite\u001b[0m\u001b[0;34m:\u001b[0m\u001b[0;34m\u001b[0m\u001b[0;34m\u001b[0m\u001b[0m\n\u001b[0;32m-> 1107\u001b[0;31m             _assert_all_finite(\n\u001b[0m\u001b[1;32m   1108\u001b[0m                 \u001b[0marray\u001b[0m\u001b[0;34m,\u001b[0m\u001b[0;34m\u001b[0m\u001b[0;34m\u001b[0m\u001b[0m\n\u001b[1;32m   1109\u001b[0m                 \u001b[0minput_name\u001b[0m\u001b[0;34m=\u001b[0m\u001b[0minput_name\u001b[0m\u001b[0;34m,\u001b[0m\u001b[0;34m\u001b[0m\u001b[0;34m\u001b[0m\u001b[0m\n",
            "\u001b[0;32m/usr/local/lib/python3.12/dist-packages/sklearn/utils/validation.py\u001b[0m in \u001b[0;36m_assert_all_finite\u001b[0;34m(X, allow_nan, msg_dtype, estimator_name, input_name)\u001b[0m\n\u001b[1;32m    118\u001b[0m         \u001b[0;32mreturn\u001b[0m\u001b[0;34m\u001b[0m\u001b[0;34m\u001b[0m\u001b[0m\n\u001b[1;32m    119\u001b[0m \u001b[0;34m\u001b[0m\u001b[0m\n\u001b[0;32m--> 120\u001b[0;31m     _assert_all_finite_element_wise(\n\u001b[0m\u001b[1;32m    121\u001b[0m         \u001b[0mX\u001b[0m\u001b[0;34m,\u001b[0m\u001b[0;34m\u001b[0m\u001b[0;34m\u001b[0m\u001b[0m\n\u001b[1;32m    122\u001b[0m         \u001b[0mxp\u001b[0m\u001b[0;34m=\u001b[0m\u001b[0mxp\u001b[0m\u001b[0;34m,\u001b[0m\u001b[0;34m\u001b[0m\u001b[0;34m\u001b[0m\u001b[0m\n",
            "\u001b[0;32m/usr/local/lib/python3.12/dist-packages/sklearn/utils/validation.py\u001b[0m in \u001b[0;36m_assert_all_finite_element_wise\u001b[0;34m(X, xp, allow_nan, msg_dtype, estimator_name, input_name)\u001b[0m\n\u001b[1;32m    167\u001b[0m                 \u001b[0;34m\"#estimators-that-handle-nan-values\"\u001b[0m\u001b[0;34m\u001b[0m\u001b[0;34m\u001b[0m\u001b[0m\n\u001b[1;32m    168\u001b[0m             )\n\u001b[0;32m--> 169\u001b[0;31m         \u001b[0;32mraise\u001b[0m \u001b[0mValueError\u001b[0m\u001b[0;34m(\u001b[0m\u001b[0mmsg_err\u001b[0m\u001b[0;34m)\u001b[0m\u001b[0;34m\u001b[0m\u001b[0;34m\u001b[0m\u001b[0m\n\u001b[0m\u001b[1;32m    170\u001b[0m \u001b[0;34m\u001b[0m\u001b[0m\n\u001b[1;32m    171\u001b[0m \u001b[0;34m\u001b[0m\u001b[0m\n",
            "\u001b[0;31mValueError\u001b[0m: Input X contains NaN.\nSMOTE does not accept missing values encoded as NaN natively. For supervised learning, you might want to consider sklearn.ensemble.HistGradientBoostingClassifier and Regressor which accept missing values encoded as NaNs natively. Alternatively, it is possible to preprocess the data, for instance by using an imputer transformer in a pipeline or drop samples with missing values. See https://scikit-learn.org/stable/modules/impute.html You can find a list of all estimators that handle NaN values at the following page: https://scikit-learn.org/stable/modules/impute.html#estimators-that-handle-nan-values"
          ]
        }
      ]
    },
    {
      "cell_type": "markdown",
      "metadata": {
        "id": "94d2a210"
      },
      "source": [
        "**Razonamiento**:\n",
        "El error indica que hay valores faltantes (NaN) en los datos de entrada `X_train`, y SMOTE no puede manejarlos. Necesito verificar y manejar estos valores faltantes antes de aplicar SMOTE.\n",
        "\n",
        "\n"
      ]
    },
    {
      "cell_type": "code",
      "metadata": {
        "colab": {
          "base_uri": "https://localhost:8080/"
        },
        "id": "eH3nrvqAt-Bw",
        "outputId": "78ac4f70-b3da-46e3-97f2-6a783df5f3d1"
      },
      "source": [
        "# Verificar si hay valores faltantes en X_train\n",
        "missing_values_before_smote = X_train.isnull().sum().sum()\n",
        "\n",
        "if missing_values_before_smote > 0:\n",
        "    print(f\"Se encontraron {missing_values_before_smote} valores faltantes en X_train.\")\n",
        "    # Imputar valores faltantes con la media\n",
        "    from sklearn.impute import SimpleImputer\n",
        "    imputer = SimpleImputer(strategy='mean')\n",
        "    X_train = imputer.fit_transform(X_train)\n",
        "    print(\"Valores faltantes en X_train imputados con la media.\")\n",
        "\n",
        "# Volver a aplicar SMOTE a los datos de entrenamiento después de manejar los valores faltantes\n",
        "from imblearn.over_sampling import SMOTE\n",
        "\n",
        "smote = SMOTE(random_state=42)\n",
        "X_train_resampled, y_train_resampled = smote.fit_resample(X_train, y_train)\n",
        "\n",
        "print(\"Forma de X_train_resampled después de SMOTE:\", X_train_resampled.shape)\n",
        "print(\"Forma de y_train_resampled después de SMOTE:\", y_train_resampled.shape)"
      ],
      "execution_count": 17,
      "outputs": [
        {
          "output_type": "stream",
          "name": "stdout",
          "text": [
            "Se encontraron 9 valores faltantes en X_train.\n",
            "Valores faltantes en X_train imputados con la media.\n",
            "Forma de X_train_resampled después de SMOTE: (8632, 14770)\n",
            "Forma de y_train_resampled después de SMOTE: (8632,)\n"
          ]
        }
      ]
    },
    {
      "cell_type": "markdown",
      "metadata": {
        "id": "d773c54e"
      },
      "source": [
        "## Evaluar la distribución de clases\n",
        "\n",
        "### Subtarea:\n",
        "Verificar la distribución de clases en el conjunto de entrenamiento balanceado.\n"
      ]
    },
    {
      "cell_type": "markdown",
      "metadata": {
        "id": "70ece75a"
      },
      "source": [
        "**Razonamiento**:\n",
        "Calcular y mostrar la distribución de clases (conteos y proporciones) del conjunto de entrenamiento balanceado.\n"
      ]
    },
    {
      "cell_type": "code",
      "metadata": {
        "colab": {
          "base_uri": "https://localhost:8080/"
        },
        "id": "f67adae4",
        "outputId": "e53192d6-5bc0-4675-f8e1-da8128660301"
      },
      "source": [
        "# Calcular el conteo de valores para la variable objetivo remuestreada\n",
        "resampled_churn_counts = y_train_resampled.value_counts()\n",
        "print(\"Conteo de clases en y_train_resampled después de SMOTE:\")\n",
        "print(resampled_churn_counts)\n",
        "\n",
        "# Calcular la proporción de cada clase en la variable objetivo remuestreada\n",
        "resampled_churn_proportion = resampled_churn_counts / len(y_train_resampled)\n",
        "print(\"\\nProporciones de clases en y_train_resampled después de SMOTE:\")\n",
        "print(resampled_churn_proportion)"
      ],
      "execution_count": 18,
      "outputs": [
        {
          "output_type": "stream",
          "name": "stdout",
          "text": [
            "Conteo de clases en y_train_resampled después de SMOTE:\n",
            "Churn\n",
            "No     4316\n",
            "Yes    4316\n",
            "Name: count, dtype: int64\n",
            "\n",
            "Proporciones de clases en y_train_resampled después de SMOTE:\n",
            "Churn\n",
            "No     0.5\n",
            "Yes    0.5\n",
            "Name: count, dtype: float64\n"
          ]
        }
      ]
    },
    {
      "cell_type": "markdown",
      "metadata": {
        "id": "c830d550"
      },
      "source": [
        "## Resumen:\n",
        "\n",
        "### Hallazgos Clave del Análisis de Datos\n",
        "* El conjunto de datos original se dividió en características (X) con una forma de (7267, 14770) y la variable objetivo (y) con una forma de (7267,).\n",
        "* Los datos se dividieron en conjuntos de entrenamiento y prueba, con el conjunto de entrenamiento (`X_train`, `y_train`) conteniendo 5813 muestras y el conjunto de prueba (`X_test`, `y_test`) conteniendo 1454 muestras.\n",
        "* Se encontraron valores faltantes en las características de entrenamiento (`X_train`) antes de aplicar SMOTE. Estos 9 valores faltantes se imputaron exitosamente usando la media.\n",
        "* Después de aplicar SMOTE a los datos de entrenamiento, el conjunto de entrenamiento remuestreado (`X_train_resampled`, `y_train_resampled`) tiene una forma de (8632, 14770).\n",
        "* La distribución de clases en la variable objetivo de entrenamiento remuestreada (`y_train_resampled`) ahora está equilibrada, con ambas clases ('No' y 'Yes' para 'Churn') teniendo un conteo igual de 4316 instancias, lo que representa una proporción 50/50.\n",
        "\n",
        "### Conclusiones o Próximos Pasos\n",
        "* Los datos de entrenamiento ahora están balanceados, lo que debería ayudar a entrenar un modelo menos sesgado hacia la clase mayoritaria.\n",
        "* El siguiente paso es entrenar un modelo de aprendizaje automático con los datos de entrenamiento balanceados y evaluar su rendimiento en el conjunto de prueba no tocado.\n",
        "\n"
      ]
    },
    {
      "cell_type": "code",
      "metadata": {
        "colab": {
          "base_uri": "https://localhost:8080/"
        },
        "id": "5c1ceff3",
        "outputId": "5590fde1-cbc0-4c15-deb1-ad10aa8de4d1"
      },
      "source": [
        "from sklearn.model_selection import train_test_split\n",
        "\n",
        "X_train, X_test, y_train, y_test = train_test_split(X, y, test_size=0.2, random_state=42)\n",
        "\n",
        "print(\"Forma de X_train:\", X_train.shape)\n",
        "print(\"Forma de X_test:\", X_test.shape)\n",
        "print(\"Forma de y_train:\", y_train.shape)\n",
        "print(\"Forma de y_test:\", y_test.shape)"
      ],
      "execution_count": 19,
      "outputs": [
        {
          "output_type": "stream",
          "name": "stdout",
          "text": [
            "Forma de X_train: (5813, 14770)\n",
            "Forma de X_test: (1454, 14770)\n",
            "Forma de y_train: (5813,)\n",
            "Forma de y_test: (1454,)\n"
          ]
        }
      ]
    },
    {
      "cell_type": "markdown",
      "metadata": {
        "id": "f6c3ec35"
      },
      "source": [
        "## Visualizar Matriz de Correlación\n",
        "\n",
        "### Subtarea:\n",
        "Visualizar la matriz de correlación para las variables numéricas.\n"
      ]
    },
    {
      "cell_type": "markdown",
      "metadata": {
        "id": "3d974a18"
      },
      "source": [
        "**Razonamiento**:\n",
        "Seleccionar columnas numéricas, calcular la matriz de correlación y visualizarla usando un mapa de calor para identificar relaciones entre las variables, particularmente aquellas correlacionadas con la rotación de clientes ('churn').\n"
      ]
    },
    {
      "cell_type": "code",
      "metadata": {
        "colab": {
          "base_uri": "https://localhost:8080/",
          "height": 853
        },
        "id": "2b2ad861",
        "outputId": "6f8ea7e3-42d2-4b3f-d737-f77b3f4eabf0"
      },
      "source": [
        "import seaborn as sns\n",
        "import matplotlib.pyplot as plt\n",
        "\n",
        "# Seleccionar solo las columnas numéricas para el análisis de correlación\n",
        "numerical_cols = df_encoded.select_dtypes(include=['float64', 'int64']).columns\n",
        "\n",
        "# Calcular la matriz de correlación\n",
        "correlation_matrix = df_encoded[numerical_cols].corr()\n",
        "\n",
        "# Visualizar la matriz de correlación usando un mapa de calor\n",
        "plt.figure(figsize=(12, 10))\n",
        "sns.heatmap(correlation_matrix, annot=True, cmap='coolwarm', fmt=\".2f\")\n",
        "plt.title('Matriz de Correlación de Variables Numéricas')\n",
        "plt.show()"
      ],
      "execution_count": 20,
      "outputs": [
        {
          "output_type": "display_data",
          "data": {
            "text/plain": [
              "<Figure size 1200x1000 with 2 Axes>"
            ],
            "image/png": "[encoded data removed]"
          },
          "metadata": {}
        }
      ]
    },
    {
      "cell_type": "markdown",
      "metadata": {
        "id": "54ffbc00"
      },
      "source": [
        "## Visualizar Relación entre Cargos Totales y Churn\n",
        "\n",
        "### Subtarea:\n",
        "Visualizar la relación entre 'TotalCharges' y 'Churn' usando un diagrama de caja ('boxplot').\n"
      ]
    },
    {
      "cell_type": "markdown",
      "metadata": {
        "id": "8154e858"
      },
      "source": [
        "**Razonamiento**:\n",
        "Crear un diagrama de caja para visualizar la distribución de 'TotalCharges' para cada categoría de 'Churn' para entender si hay una diferencia en el gasto total entre los clientes que causaron baja y los que no.\n"
      ]
    },
    {
      "cell_type": "code",
      "metadata": {
        "colab": {
          "base_uri": "https://localhost:8080/",
          "height": 564
        },
        "id": "6fda8164",
        "outputId": "76ad9194-87f6-4d30-84e5-0621ffcd11c3"
      },
      "source": [
        "plt.figure(figsize=(8, 6))\n",
        "sns.boxplot(x='Churn', y='TotalCharges', data=df)\n",
        "plt.title('Cargos Totales vs. Churn')\n",
        "plt.xlabel('Churn')\n",
        "plt.ylabel('Cargos Totales')\n",
        "plt.show()"
      ],
      "execution_count": 21,
      "outputs": [
        {
          "output_type": "display_data",
          "data": {
            "text/plain": [
              "<Figure size 800x600 with 1 Axes>"
            ],
            "image/png": "[encoded data removed]"
          },
          "metadata": {}
        }
      ]
    },
    {
      "cell_type": "markdown",
      "metadata": {
        "id": "ea9d5daf"
      },
      "source": [
        "## Visualizar Relación entre Tipo de Contrato y Churn\n",
        "\n",
        "### Subtarea:\n",
        "Visualizar la relación entre el tipo de 'Contract' y 'Churn' usando un gráfico de conteo ('countplot') o examinando la distribución dentro de los tipos de contrato.\n"
      ]
    },
    {
      "cell_type": "markdown",
      "metadata": {
        "id": "4672f43f"
      },
      "source": [
        "**Razonamiento**:\n",
        "Crear un gráfico de conteo o una visualización similar para mostrar la distribución de la rotación dentro de cada tipo de contrato y ver si ciertos tipos de contrato están más asociados con la rotación de clientes.\n"
      ]
    },
    {
      "cell_type": "code",
      "metadata": {
        "colab": {
          "base_uri": "https://localhost:8080/",
          "height": 564
        },
        "id": "77bbffc1",
        "outputId": "8605fb80-920b-4542-a94d-652330938ab5"
      },
      "source": [
        "plt.figure(figsize=(8, 6))\n",
        "sns.countplot(x='Contract', hue='Churn', data=df)\n",
        "plt.title('Churn por Tipo de Contrato')\n",
        "plt.xlabel('Tipo de Contrato')\n",
        "plt.ylabel('Conteo')\n",
        "plt.show()"
      ],
      "execution_count": 22,
      "outputs": [
        {
          "output_type": "display_data",
          "data": {
            "text/plain": [
              "<Figure size 800x600 with 1 Axes>"
            ],
            "image/png": "[encoded data removed]"
          },
          "metadata": {}
        }
      ]
    },
    {
      "cell_type": "markdown",
      "metadata": {
        "id": "ec03916e"
      },
      "source": [
        "# Tarea\n",
        "Analizar el conjunto de datos de rotación de clientes para identificar los factores que influyen en la rotación y construir modelos predictivos. El análisis debe incluir pasos de preprocesamiento de datos como el manejo de variables categóricas, el abordaje del desequilibrio de clases y el escalado de características. Entrenar al menos dos modelos diferentes (uno sensible al escalado y otro no) y evaluar su rendimiento para determinar el mejor enfoque para predecir la rotación de clientes.\n"
      ]
    },
    {
      "cell_type": "markdown",
      "metadata": {
        "id": "bd117cd6"
      },
      "source": [
        "## Seleccionar modelos\n",
        "\n",
        "### Subtarea:\n",
        "Elegir al menos dos modelos para entrenar: uno sensible al escalado de características (por ejemplo, Regresión Logística) y uno no sensible (por ejemplo, Random Forest).\n",
        "\n"
      ]
    },
    {
      "cell_type": "markdown",
      "metadata": {
        "id": "bc692d80"
      },
      "source": [
        "**Razonamiento**:\n",
        "Elegir al menos dos modelos de clasificación de sklearn, uno sensible al escalado y otro no.\n",
        "\n",
        "\n"
      ]
    },
    {
      "cell_type": "code",
      "metadata": {
        "colab": {
          "base_uri": "https://localhost:8080/"
        },
        "id": "af80879d",
        "outputId": "cac561e9-2809-494f-9859-edc741f5a3af"
      },
      "source": [
        "from sklearn.linear_model import LogisticRegression\n",
        "from sklearn.ensemble import RandomForestClassifier\n",
        "\n",
        "# La Regresión Logística es sensible al escalado de características porque utiliza medidas de distancia para encontrar los coeficientes óptimos.\n",
        "# Random Forest no es sensible al escalado de características porque es un modelo basado en árboles que toma decisiones basadas en los valores de las características en relación con umbrales, no distancias.\n",
        "\n",
        "print(\"Modelos elegidos:\")\n",
        "print(\"- Regresión Logística (Sensible al escalado)\")\n",
        "print(\"- Clasificador Random Forest (No sensible al escalado)\")"
      ],
      "execution_count": 23,
      "outputs": [
        {
          "output_type": "stream",
          "name": "stdout",
          "text": [
            "Modelos elegidos:\n",
            "- Regresión Logística (Sensible al escalado)\n",
            "- Clasificador Random Forest (No sensible al escalado)\n"
          ]
        }
      ]
    },
    {
      "cell_type": "markdown",
      "metadata": {
        "id": "39e01f8e"
      },
      "source": [
        "## Escalado de datos (si es necesario)\n",
        "\n",
        "### Subtarea:\n",
        "Aplicar la estandarización a los datos de entrenamiento y prueba para el modelo sensible al escalado.\n"
      ]
    },
    {
      "cell_type": "markdown",
      "metadata": {
        "id": "397f8a86"
      },
      "source": [
        "**Razonamiento**:\n",
        "Aplicar la estandarización a los datos de entrenamiento y prueba usando StandardScaler.\n"
      ]
    },
    {
      "cell_type": "code",
      "metadata": {
        "colab": {
          "base_uri": "https://localhost:8080/"
        },
        "id": "4546ebf5",
        "outputId": "06583537-54e4-4fb2-92d5-6af22d6140bd"
      },
      "source": [
        "from sklearn.preprocessing import StandardScaler\n",
        "\n",
        "# Instanciar StandardScaler\n",
        "scaler = StandardScaler()\n",
        "\n",
        "# Ajustar el escalador a las características de entrenamiento remuestreadas y transformar\n",
        "X_train_resampled_scaled = scaler.fit_transform(X_train_resampled)\n",
        "\n",
        "# Transformar las características de prueba\n",
        "X_test_scaled = scaler.transform(X_test)\n",
        "\n",
        "print(\"Forma de X_train_resampled_scaled:\", X_train_resampled_scaled.shape)\n",
        "print(\"Forma de X_test_scaled:\", X_test_scaled.shape)"
      ],
      "execution_count": 24,
      "outputs": [
        {
          "output_type": "stream",
          "name": "stderr",
          "text": [
            "/usr/local/lib/python3.12/dist-packages/sklearn/utils/validation.py:2732: UserWarning: X has feature names, but StandardScaler was fitted without feature names\n",
            "  warnings.warn(\n"
          ]
        },
        {
          "output_type": "stream",
          "name": "stdout",
          "text": [
            "Forma de X_train_resampled_scaled: (8632, 14770)\n",
            "Forma de X_test_scaled: (1454, 14770)\n"
          ]
        }
      ]
    },
    {
      "cell_type": "markdown",
      "metadata": {
        "id": "dcd4f536"
      },
      "source": [
        "## Entrenar modelos\n",
        "\n",
        "### Subtarea:\n",
        "Entrenar los modelos seleccionados en los datos de entrenamiento preprocesados.\n",
        "\n"
      ]
    },
    {
      "cell_type": "markdown",
      "metadata": {
        "id": "b7b16c5c"
      },
      "source": [
        "**Razonamiento**:\n",
        "Entrenar los modelos de Regresión Logística y Random Forest utilizando los datos de entrenamiento apropiados.\n",
        "\n"
      ]
    },
    {
      "cell_type": "code",
      "metadata": {
        "colab": {
          "base_uri": "https://localhost:8080/"
        },
        "id": "3edf4845",
        "outputId": "14fdac21-d01a-475c-fac7-7f0f6bc0244e"
      },
      "source": [
        "# Entrenar el modelo de Regresión Logística\n",
        "log_reg = LogisticRegression(random_state=42)\n",
        "log_reg.fit(X_train_resampled_scaled, y_train_resampled)\n",
        "print(\"Modelo de Regresión Logística entrenado exitosamente.\")\n",
        "\n",
        "# Entrenar el modelo de Random Forest\n",
        "rf_clf = RandomForestClassifier(random_state=42)\n",
        "rf_clf.fit(X_train_resampled, y_train_resampled)\n",
        "print(\"Modelo de Random Forest entrenado exitosamente.\")\n"
      ],
      "execution_count": 25,
      "outputs": [
        {
          "output_type": "stream",
          "name": "stdout",
          "text": [
            "Modelo de Regresión Logística entrenado exitosamente.\n",
            "Modelo de Random Forest entrenado exitosamente.\n"
          ]
        }
      ]
    },
    {
      "cell_type": "markdown",
      "metadata": {
        "id": "cfe7aebe"
      },
      "source": [
        "## Evaluar modelos\n",
        "\n",
        "### Subtarea:\n",
        "Evaluar el rendimiento de cada modelo entrenado en los datos de prueba utilizando métricas apropiadas (por ejemplo, precisión, recall, puntuación F1, AUC).\n",
        "\n"
      ]
    },
    {
      "cell_type": "markdown",
      "metadata": {
        "id": "c1f9f746"
      },
      "source": [
        "**Razonamiento**:\n",
        "Calcular las métricas de evaluación para ambos modelos entrenados en los datos de prueba.\n",
        "\n"
      ]
    },
    {
      "cell_type": "code",
      "metadata": {
        "colab": {
          "base_uri": "https://localhost:8080/",
          "height": 460
        },
        "id": "fff959d7",
        "outputId": "4fbde7dc-81d2-4a1b-8fbd-56c89d9e6b8c"
      },
      "source": [
        "from sklearn.metrics import accuracy_score, precision_score, recall_score, f1_score, roc_auc_score\n",
        "\n",
        "# Predecir probabilidades para la Regresión Logística en datos de prueba escalados\n",
        "log_reg_probs = log_reg.predict_proba(X_test_scaled)[:, 1]\n",
        "\n",
        "# Predecir probabilidades para Random Forest en datos de prueba no escalados\n",
        "rf_clf_probs = rf_clf.predict_proba(X_test)[:, 1]\n",
        "\n",
        "# Calcular AUC para ambos modelos\n",
        "log_reg_auc = roc_auc_score(y_test, log_reg_probs)\n",
        "rf_clf_auc = roc_auc_score(y_test, rf_clf_probs)\n",
        "\n",
        "# Convertir probabilidades a predicciones binarias usando un umbral de 0.5\n",
        "log_reg_pred = (log_reg_probs > 0.5).astype(int)\n",
        "rf_clf_pred = (rf_clf_probs > 0.5).astype(int)\n",
        "\n",
        "# Mapear 'Yes' a 1 y 'No' a 0 para calcular las métricas\n",
        "y_test_numeric = y_test.apply(lambda x: 1 if x == 'Yes' else 0)\n",
        "\n",
        "# Calcular métricas de evaluación para la Regresión Logística\n",
        "log_reg_accuracy = accuracy_score(y_test_numeric, log_reg_pred)\n",
        "log_reg_precision = precision_score(y_test_numeric, log_reg_pred)\n",
        "log_reg_recall = recall_score(y_test_numeric, log_reg_pred)\n",
        "log_reg_f1 = f1_score(y_test_numeric, log_reg_pred)\n",
        "\n",
        "# Calcular métricas de evaluación para Random Forest\n",
        "rf_clf_accuracy = accuracy_score(y_test_numeric, rf_clf_pred)\n",
        "rf_clf_precision = precision_score(y_test_numeric, rf_clf_pred)\n",
        "rf_clf_recall = recall_score(y_test_numeric, rf_clf_pred)\n",
        "rf_clf_f1 = f1_score(y_test_numeric, rf_clf_pred)\n",
        "\n",
        "# Imprimir las métricas de evaluación\n",
        "print(\"--- Métricas de Regresión Logística ---\")\n",
        "print(f\"AUC: {log_reg_auc:.4f}\")\n",
        "print(f\"Precisión: {log_reg_accuracy:.4f}\")\n",
        "print(f\"Precisión: {log_reg_precision:.4f}\")\n",
        "print(f\"Recall: {log_reg_recall:.4f}\")\n",
        "print(f\"Puntuación F1: {log_reg_f1:.4f}\")\n",
        "\n",
        "print(\"\\n--- Métricas de Random Forest ---\")\n",
        "print(f\"AUC: {rf_clf_auc:.4f}\")\n",
        "print(f\"Precisión: {rf_clf_accuracy:.4f}\")\n",
        "print(f\"Precisión: {rf_clf_precision:.4f}\")\n",
        "print(f\"Recall: {rf_clf_recall:.4f}\")\n",
        "print(f\"Puntuación F1: {rf_clf_f1:.4f}\")"
      ],
      "execution_count": 26,
      "outputs": [
        {
          "output_type": "error",
          "ename": "ValueError",
          "evalue": "Input X contains NaN.\nLogisticRegression does not accept missing values encoded as NaN natively. For supervised learning, you might want to consider sklearn.ensemble.HistGradientBoostingClassifier and Regressor which accept missing values encoded as NaNs natively. Alternatively, it is possible to preprocess the data, for instance by using an imputer transformer in a pipeline or drop samples with missing values. See https://scikit-learn.org/stable/modules/impute.html You can find a list of all estimators that handle NaN values at the following page: https://scikit-learn.org/stable/modules/impute.html#estimators-that-handle-nan-values",
          "traceback": [
            "\u001b[0;31m---------------------------------------------------------------------------\u001b[0m",
            "\u001b[0;31mValueError\u001b[0m                                Traceback (most recent call last)",
            "\u001b[0;32m/tmp/ipython-input-2131457485.py\u001b[0m in \u001b[0;36m<cell line: 0>\u001b[0;34m()\u001b[0m\n\u001b[1;32m      2\u001b[0m \u001b[0;34m\u001b[0m\u001b[0m\n\u001b[1;32m      3\u001b[0m \u001b[0;31m# Predecir probabilidades para la Regresión Logística en datos de prueba escalados\u001b[0m\u001b[0;34m\u001b[0m\u001b[0;34m\u001b[0m\u001b[0m\n\u001b[0;32m----> 4\u001b[0;31m \u001b[0mlog_reg_probs\u001b[0m \u001b[0;34m=\u001b[0m \u001b[0mlog_reg\u001b[0m\u001b[0;34m.\u001b[0m\u001b[0mpredict_proba\u001b[0m\u001b[0;34m(\u001b[0m\u001b[0mX_test_scaled\u001b[0m\u001b[0;34m)\u001b[0m\u001b[0;34m[\u001b[0m\u001b[0;34m:\u001b[0m\u001b[0;34m,\u001b[0m \u001b[0;36m1\u001b[0m\u001b[0;34m]\u001b[0m\u001b[0;34m\u001b[0m\u001b[0;34m\u001b[0m\u001b[0m\n\u001b[0m\u001b[1;32m      5\u001b[0m \u001b[0;34m\u001b[0m\u001b[0m\n\u001b[1;32m      6\u001b[0m \u001b[0;31m# Predecir probabilidades para Random Forest en datos de prueba no escalados\u001b[0m\u001b[0;34m\u001b[0m\u001b[0;34m\u001b[0m\u001b[0m\n",
            "\u001b[0;32m/usr/local/lib/python3.12/dist-packages/sklearn/linear_model/_logistic.py\u001b[0m in \u001b[0;36mpredict_proba\u001b[0;34m(self, X)\u001b[0m\n\u001b[1;32m   1426\u001b[0m         )\n\u001b[1;32m   1427\u001b[0m         \u001b[0;32mif\u001b[0m \u001b[0movr\u001b[0m\u001b[0;34m:\u001b[0m\u001b[0;34m\u001b[0m\u001b[0;34m\u001b[0m\u001b[0m\n\u001b[0;32m-> 1428\u001b[0;31m             \u001b[0;32mreturn\u001b[0m \u001b[0msuper\u001b[0m\u001b[0;34m(\u001b[0m\u001b[0;34m)\u001b[0m\u001b[0;34m.\u001b[0m\u001b[0m_predict_proba_lr\u001b[0m\u001b[0;34m(\u001b[0m\u001b[0mX\u001b[0m\u001b[0;34m)\u001b[0m\u001b[0;34m\u001b[0m\u001b[0;34m\u001b[0m\u001b[0m\n\u001b[0m\u001b[1;32m   1429\u001b[0m         \u001b[0;32melse\u001b[0m\u001b[0;34m:\u001b[0m\u001b[0;34m\u001b[0m\u001b[0;34m\u001b[0m\u001b[0m\n\u001b[1;32m   1430\u001b[0m             \u001b[0mdecision\u001b[0m \u001b[0;34m=\u001b[0m \u001b[0mself\u001b[0m\u001b[0;34m.\u001b[0m\u001b[0mdecision_function\u001b[0m\u001b[0;34m(\u001b[0m\u001b[0mX\u001b[0m\u001b[0;34m)\u001b[0m\u001b[0;34m\u001b[0m\u001b[0;34m\u001b[0m\u001b[0m\n",
            "\u001b[0;32m/usr/local/lib/python3.12/dist-packages/sklearn/linear_model/_base.py\u001b[0m in \u001b[0;36m_predict_proba_lr\u001b[0;34m(self, X)\u001b[0m\n\u001b[1;32m    387\u001b[0m         \u001b[0mmulticlass\u001b[0m \u001b[0;32mis\u001b[0m \u001b[0mhandled\u001b[0m \u001b[0mby\u001b[0m \u001b[0mnormalizing\u001b[0m \u001b[0mthat\u001b[0m \u001b[0mover\u001b[0m \u001b[0mall\u001b[0m \u001b[0mclasses\u001b[0m\u001b[0;34m.\u001b[0m\u001b[0;34m\u001b[0m\u001b[0;34m\u001b[0m\u001b[0m\n\u001b[1;32m    388\u001b[0m         \"\"\"\n\u001b[0;32m--> 389\u001b[0;31m         \u001b[0mprob\u001b[0m \u001b[0;34m=\u001b[0m \u001b[0mself\u001b[0m\u001b[0;34m.\u001b[0m\u001b[0mdecision_function\u001b[0m\u001b[0;34m(\u001b[0m\u001b[0mX\u001b[0m\u001b[0;34m)\u001b[0m\u001b[0;34m\u001b[0m\u001b[0;34m\u001b[0m\u001b[0m\n\u001b[0m\u001b[1;32m    390\u001b[0m         \u001b[0mexpit\u001b[0m\u001b[0;34m(\u001b[0m\u001b[0mprob\u001b[0m\u001b[0;34m,\u001b[0m \u001b[0mout\u001b[0m\u001b[0;34m=\u001b[0m\u001b[0mprob\u001b[0m\u001b[0;34m)\u001b[0m\u001b[0;34m\u001b[0m\u001b[0;34m\u001b[0m\u001b[0m\n\u001b[1;32m    391\u001b[0m         \u001b[0;32mif\u001b[0m \u001b[0mprob\u001b[0m\u001b[0;34m.\u001b[0m\u001b[0mndim\u001b[0m \u001b[0;34m==\u001b[0m \u001b[0;36m1\u001b[0m\u001b[0;34m:\u001b[0m\u001b[0;34m\u001b[0m\u001b[0;34m\u001b[0m\u001b[0m\n",
            "\u001b[0;32m/usr/local/lib/python3.12/dist-packages/sklearn/linear_model/_base.py\u001b[0m in \u001b[0;36mdecision_function\u001b[0;34m(self, X)\u001b[0m\n\u001b[1;32m    349\u001b[0m         \u001b[0mxp\u001b[0m\u001b[0;34m,\u001b[0m \u001b[0m_\u001b[0m \u001b[0;34m=\u001b[0m \u001b[0mget_namespace\u001b[0m\u001b[0;34m(\u001b[0m\u001b[0mX\u001b[0m\u001b[0;34m)\u001b[0m\u001b[0;34m\u001b[0m\u001b[0;34m\u001b[0m\u001b[0m\n\u001b[1;32m    350\u001b[0m \u001b[0;34m\u001b[0m\u001b[0m\n\u001b[0;32m--> 351\u001b[0;31m         \u001b[0mX\u001b[0m \u001b[0;34m=\u001b[0m \u001b[0mvalidate_data\u001b[0m\u001b[0;34m(\u001b[0m\u001b[0mself\u001b[0m\u001b[0;34m,\u001b[0m \u001b[0mX\u001b[0m\u001b[0;34m,\u001b[0m \u001b[0maccept_sparse\u001b[0m\u001b[0;34m=\u001b[0m\u001b[0;34m\"csr\"\u001b[0m\u001b[0;34m,\u001b[0m \u001b[0mreset\u001b[0m\u001b[0;34m=\u001b[0m\u001b[0;32mFalse\u001b[0m\u001b[0;34m)\u001b[0m\u001b[0;34m\u001b[0m\u001b[0;34m\u001b[0m\u001b[0m\n\u001b[0m\u001b[1;32m    352\u001b[0m         \u001b[0mscores\u001b[0m \u001b[0;34m=\u001b[0m \u001b[0msafe_sparse_dot\u001b[0m\u001b[0;34m(\u001b[0m\u001b[0mX\u001b[0m\u001b[0;34m,\u001b[0m \u001b[0mself\u001b[0m\u001b[0;34m.\u001b[0m\u001b[0mcoef_\u001b[0m\u001b[0;34m.\u001b[0m\u001b[0mT\u001b[0m\u001b[0;34m,\u001b[0m \u001b[0mdense_output\u001b[0m\u001b[0;34m=\u001b[0m\u001b[0;32mTrue\u001b[0m\u001b[0;34m)\u001b[0m \u001b[0;34m+\u001b[0m \u001b[0mself\u001b[0m\u001b[0;34m.\u001b[0m\u001b[0mintercept_\u001b[0m\u001b[0;34m\u001b[0m\u001b[0;34m\u001b[0m\u001b[0m\n\u001b[1;32m    353\u001b[0m         return (\n",
            "\u001b[0;32m/usr/local/lib/python3.12/dist-packages/sklearn/utils/validation.py\u001b[0m in \u001b[0;36mvalidate_data\u001b[0;34m(_estimator, X, y, reset, validate_separately, skip_check_array, **check_params)\u001b[0m\n\u001b[1;32m   2942\u001b[0m             \u001b[0mout\u001b[0m \u001b[0;34m=\u001b[0m \u001b[0mX\u001b[0m\u001b[0;34m,\u001b[0m \u001b[0my\u001b[0m\u001b[0;34m\u001b[0m\u001b[0;34m\u001b[0m\u001b[0m\n\u001b[1;32m   2943\u001b[0m     \u001b[0;32melif\u001b[0m \u001b[0;32mnot\u001b[0m \u001b[0mno_val_X\u001b[0m \u001b[0;32mand\u001b[0m \u001b[0mno_val_y\u001b[0m\u001b[0;34m:\u001b[0m\u001b[0;34m\u001b[0m\u001b[0;34m\u001b[0m\u001b[0m\n\u001b[0;32m-> 2944\u001b[0;31m         \u001b[0mout\u001b[0m \u001b[0;34m=\u001b[0m \u001b[0mcheck_array\u001b[0m\u001b[0;34m(\u001b[0m\u001b[0mX\u001b[0m\u001b[0;34m,\u001b[0m \u001b[0minput_name\u001b[0m\u001b[0;34m=\u001b[0m\u001b[0;34m\"X\"\u001b[0m\u001b[0;34m,\u001b[0m \u001b[0;34m**\u001b[0m\u001b[0mcheck_params\u001b[0m\u001b[0;34m)\u001b[0m\u001b[0;34m\u001b[0m\u001b[0;34m\u001b[0m\u001b[0m\n\u001b[0m\u001b[1;32m   2945\u001b[0m     \u001b[0;32melif\u001b[0m \u001b[0mno_val_X\u001b[0m \u001b[0;32mand\u001b[0m \u001b[0;32mnot\u001b[0m \u001b[0mno_val_y\u001b[0m\u001b[0;34m:\u001b[0m\u001b[0;34m\u001b[0m\u001b[0;34m\u001b[0m\u001b[0m\n\u001b[1;32m   2946\u001b[0m         \u001b[0mout\u001b[0m \u001b[0;34m=\u001b[0m \u001b[0m_check_y\u001b[0m\u001b[0;34m(\u001b[0m\u001b[0my\u001b[0m\u001b[0;34m,\u001b[0m \u001b[0;34m**\u001b[0m\u001b[0mcheck_params\u001b[0m\u001b[0;34m)\u001b[0m\u001b[0;34m\u001b[0m\u001b[0;34m\u001b[0m\u001b[0m\n",
            "\u001b[0;32m/usr/local/lib/python3.12/dist-packages/sklearn/utils/validation.py\u001b[0m in \u001b[0;36mcheck_array\u001b[0;34m(array, accept_sparse, accept_large_sparse, dtype, order, copy, force_writeable, force_all_finite, ensure_all_finite, ensure_non_negative, ensure_2d, allow_nd, ensure_min_samples, ensure_min_features, estimator, input_name)\u001b[0m\n\u001b[1;32m   1105\u001b[0m \u001b[0;34m\u001b[0m\u001b[0m\n\u001b[1;32m   1106\u001b[0m         \u001b[0;32mif\u001b[0m \u001b[0mensure_all_finite\u001b[0m\u001b[0;34m:\u001b[0m\u001b[0;34m\u001b[0m\u001b[0;34m\u001b[0m\u001b[0m\n\u001b[0;32m-> 1107\u001b[0;31m             _assert_all_finite(\n\u001b[0m\u001b[1;32m   1108\u001b[0m                 \u001b[0marray\u001b[0m\u001b[0;34m,\u001b[0m\u001b[0;34m\u001b[0m\u001b[0;34m\u001b[0m\u001b[0m\n\u001b[1;32m   1109\u001b[0m                 \u001b[0minput_name\u001b[0m\u001b[0;34m=\u001b[0m\u001b[0minput_name\u001b[0m\u001b[0;34m,\u001b[0m\u001b[0;34m\u001b[0m\u001b[0;34m\u001b[0m\u001b[0m\n",
            "\u001b[0;32m/usr/local/lib/python3.12/dist-packages/sklearn/utils/validation.py\u001b[0m in \u001b[0;36m_assert_all_finite\u001b[0;34m(X, allow_nan, msg_dtype, estimator_name, input_name)\u001b[0m\n\u001b[1;32m    118\u001b[0m         \u001b[0;32mreturn\u001b[0m\u001b[0;34m\u001b[0m\u001b[0;34m\u001b[0m\u001b[0m\n\u001b[1;32m    119\u001b[0m \u001b[0;34m\u001b[0m\u001b[0m\n\u001b[0;32m--> 120\u001b[0;31m     _assert_all_finite_element_wise(\n\u001b[0m\u001b[1;32m    121\u001b[0m         \u001b[0mX\u001b[0m\u001b[0;34m,\u001b[0m\u001b[0;34m\u001b[0m\u001b[0;34m\u001b[0m\u001b[0m\n\u001b[1;32m    122\u001b[0m         \u001b[0mxp\u001b[0m\u001b[0;34m=\u001b[0m\u001b[0mxp\u001b[0m\u001b[0;34m,\u001b[0m\u001b[0;34m\u001b[0m\u001b[0;34m\u001b[0m\u001b[0m\n",
            "\u001b[0;32m/usr/local/lib/python3.12/dist-packages/sklearn/utils/validation.py\u001b[0m in \u001b[0;36m_assert_all_finite_element_wise\u001b[0;34m(X, xp, allow_nan, msg_dtype, estimator_name, input_name)\u001b[0m\n\u001b[1;32m    167\u001b[0m                 \u001b[0;34m\"#estimators-that-handle-nan-values\"\u001b[0m\u001b[0;34m\u001b[0m\u001b[0;34m\u001b[0m\u001b[0m\n\u001b[1;32m    168\u001b[0m             )\n\u001b[0;32m--> 169\u001b[0;31m         \u001b[0;32mraise\u001b[0m \u001b[0mValueError\u001b[0m\u001b[0;34m(\u001b[0m\u001b[0mmsg_err\u001b[0m\u001b[0;34m)\u001b[0m\u001b[0;34m\u001b[0m\u001b[0;34m\u001b[0m\u001b[0m\n\u001b[0m\u001b[1;32m    170\u001b[0m \u001b[0;34m\u001b[0m\u001b[0m\n\u001b[1;32m    171\u001b[0m \u001b[0;34m\u001b[0m\u001b[0m\n",
            "\u001b[0;31mValueError\u001b[0m: Input X contains NaN.\nLogisticRegression does not accept missing values encoded as NaN natively. For supervised learning, you might want to consider sklearn.ensemble.HistGradientBoostingClassifier and Regressor which accept missing values encoded as NaNs natively. Alternatively, it is possible to preprocess the data, for instance by using an imputer transformer in a pipeline or drop samples with missing values. See https://scikit-learn.org/stable/modules/impute.html You can find a list of all estimators that handle NaN values at the following page: https://scikit-learn.org/stable/modules/impute.html#estimators-that-handle-nan-values"
          ]
        }
      ]
    },
    {
      "cell_type": "markdown",
      "metadata": {
        "id": "c1f9b788"
      },
      "source": [
        "**Razonamiento**:\n",
        "El error indica que todavía hay valores faltantes (NaN) en el conjunto de prueba (`X_test_scaled`) al intentar usar el modelo de Regresión Logística. Necesito imputar los valores faltantes en `X_test` antes de escalar y predecir.\n",
        "\n",
        "\n"
      ]
    },
    {
      "cell_type": "code",
      "metadata": {
        "colab": {
          "base_uri": "https://localhost:8080/"
        },
        "id": "Q3LxkwbTXUdk",
        "outputId": "87d697be-258e-4857-e6a9-844d8ad8050e"
      },
      "source": [
        "from sklearn.metrics import accuracy_score, precision_score, recall_score, f1_score, roc_auc_score\n",
        "from sklearn.impute import SimpleImputer\n",
        "from sklearn.preprocessing import StandardScaler\n",
        "\n",
        "# Imputar valores faltantes en X_test con la media\n",
        "imputer = SimpleImputer(strategy='mean')\n",
        "X_test_imputed = imputer.fit_transform(X_test)\n",
        "print(\"Valores faltantes en X_test imputados con la media.\")\n",
        "\n",
        "# Escalar las características de prueba imputadas\n",
        "scaler = StandardScaler()\n",
        "# Asumiendo que el escalador ya fue ajustado en los datos de entrenamiento, solo transformar los datos de prueba\n",
        "# Si el escalador no se ajustó antes, ajustar y transformar en los datos de entrenamiento, luego transformar en los datos de prueba.\n",
        "# Basado en los pasos anteriores, el escalador se ajustó en los datos de entrenamiento remuestreados (X_train_resampled_scaled) lo cual es incorrecto.\n",
        "# El escalador debe ajustarse en los datos de entrenamiento originales antes del remuestreo para evitar la fuga de datos.\n",
        "# Volvamos a ajustar el escalador en el X_train original (después de la imputación si es necesario) y luego transformamos X_test_imputed.\n",
        "\n",
        "# Verificar si hay valores faltantes en el X_train original (antes de la imputación anterior)\n",
        "missing_values_original_X_train = X_train.isnull().sum().sum()\n",
        "if missing_values_original_X_train > 0:\n",
        "    print(f\"Se encontraron {missing_values_original_X_train} valores faltantes en el X_train original.\")\n",
        "    # Imputar valores faltantes en el X_train original\n",
        "    imputer_train = SimpleImputer(strategy='mean')\n",
        "    X_train_imputed = imputer_train.fit_transform(X_train)\n",
        "    print(\"Valores faltantes en el X_train original imputados con la media.\")\n",
        "else:\n",
        "    X_train_imputed = X_train\n",
        "    print(\"No hay valores faltantes en el X_train original.\")\n",
        "\n",
        "# Ajustar el escalador en los datos de entrenamiento imputados y transformar\n",
        "scaler = StandardScaler()\n",
        "X_train_imputed_scaled = scaler.fit_transform(X_train_imputed)\n",
        "\n",
        "# Transformar los datos de prueba imputados usando el escalador ajustado en los datos de entrenamiento imputados\n",
        "X_test_imputed_scaled = scaler.transform(X_test_imputed)\n",
        "print(\"Características de prueba imputadas y escaladas.\")\n",
        "\n",
        "# Volver a entrenar el modelo de Regresión Logística con los datos escalados correctamente\n",
        "log_reg = LogisticRegression(random_state=42)\n",
        "log_reg.fit(X_train_imputed_scaled, y_train) # Entrenar en los datos de entrenamiento originales imputados y escalados\n",
        "\n",
        "print(\"Modelo de Regresión Logística re-entrenado exitosamente con datos imputados y escalados.\")\n",
        "\n",
        "# Predecir probabilidades para la Regresión Logística en datos de prueba escalados e imputados\n",
        "log_reg_probs = log_reg.predict_proba(X_test_imputed_scaled)[:, 1]\n",
        "\n",
        "# Predecir probabilidades para Random Forest en datos de prueba no escalados e imputados\n",
        "rf_clf_probs = rf_clf.predict_proba(X_test_imputed)[:, 1] # Usar X_test imputado para RF\n",
        "\n",
        "# Calcular AUC para ambos modelos\n",
        "log_reg_auc = roc_auc_score(y_test, log_reg_probs)\n",
        "rf_clf_auc = roc_auc_score(y_test, rf_clf_probs)\n",
        "\n",
        "# Convertir probabilidades a predicciones binarias usando un umbral de 0.5\n",
        "log_reg_pred = (log_reg_probs > 0.5).astype(int)\n",
        "rf_clf_pred = (rf_clf_probs > 0.5).astype(int)\n",
        "\n",
        "# Mapear 'Yes' a 1 y 'No' a 0 para calcular las métricas\n",
        "y_test_numeric = y_test.apply(lambda x: 1 if x == 'Yes' else 0)\n",
        "\n",
        "# Calcular métricas de evaluación para la Regresión Logística\n",
        "log_reg_accuracy = accuracy_score(y_test_numeric, log_reg_pred)\n",
        "log_reg_precision = precision_score(y_test_numeric, log_reg_pred)\n",
        "log_reg_recall = recall_score(y_test_numeric, log_reg_pred)\n",
        "log_reg_f1 = f1_score(y_test_numeric, log_reg_pred)\n",
        "\n",
        "# Calcular métricas de evaluación para Random Forest\n",
        "rf_clf_accuracy = accuracy_score(y_test_numeric, rf_clf_pred)\n",
        "rf_clf_precision = precision_score(y_test_numeric, rf_clf_pred)\n",
        "rf_clf_recall = recall_score(y_test_numeric, rf_clf_pred)\n",
        "rf_clf_f1 = f1_score(y_test_numeric, rf_clf_pred)\n",
        "\n",
        "# Imprimir las métricas de evaluación\n",
        "print(\"\\n--- Métricas de Regresión Logística ---\")\n",
        "print(f\"AUC: {log_reg_auc:.4f}\")\n",
        "print(f\"Precisión: {log_reg_accuracy:.4f}\")\n",
        "print(f\"Precisión: {log_reg_precision:.4f}\")\n",
        "print(f\"Recall: {log_reg_recall:.4f}\")\n",
        "print(f\"Puntuación F1: {log_reg_f1:.4f}\")\n",
        "\n",
        "print(\"\\n--- Métricas de Random Forest ---\")\n",
        "print(f\"AUC: {rf_clf_auc:.4f}\")\n",
        "print(f\"Precisión: {rf_clf_accuracy:.4f}\")\n",
        "print(f\"Precisión: {rf_clf_precision:.4f}\")\n",
        "print(f\"Recall: {rf_clf_recall:.4f}\")\n",
        "print(f\"Puntuación F1: {rf_clf_f1:.4f}\")"
      ],
      "execution_count": 27,
      "outputs": [
        {
          "output_type": "stream",
          "name": "stdout",
          "text": [
            "Valores faltantes en X_test imputados con la media.\n",
            "Se encontraron 9 valores faltantes en el X_train original.\n",
            "Valores faltantes en el X_train original imputados con la media.\n",
            "Características de prueba imputadas y escaladas.\n",
            "Modelo de Regresión Logística re-entrenado exitosamente con datos imputados y escalados.\n",
            "\n",
            "--- Métricas de Regresión Logística ---\n",
            "AUC: 0.8076\n",
            "Precisión: 0.7634\n",
            "Precisión: 0.5933\n",
            "Recall: 0.2392\n",
            "Puntuación F1: 0.3410\n",
            "\n",
            "--- Métricas de Random Forest ---\n",
            "AUC: 0.8300\n",
            "Precisión: 0.7923\n",
            "Precisión: 0.6129\n",
            "Recall: 0.5108\n",
            "Puntuación F1: 0.5572\n"
          ]
        }
      ]
    },
    {
      "cell_type": "markdown",
      "metadata": {
        "id": "8b17e86a"
      },
      "source": [
        "## Comparar el rendimiento de los modelos\n",
        "\n",
        "### Subtarea:\n",
        "Comparar el rendimiento de los diferentes modelos y discutir sus fortalezas y debilidades.\n",
        "\n"
      ]
    },
    {
      "cell_type": "markdown",
      "metadata": {
        "id": "fd139c9a"
      },
      "source": [
        "**Razonamiento**:\n",
        "Resumir el rendimiento de cada modelo basándose en las métricas de evaluación obtenidas en el paso anterior y discutir sus fortalezas y debilidades.\n",
        "\n",
        "\n"
      ]
    },
    {
      "cell_type": "code",
      "metadata": {
        "colab": {
          "base_uri": "https://localhost:8080/"
        },
        "id": "a6bdb617",
        "outputId": "96c20c33-4df2-42ca-ad8b-b2d4ffd5827c"
      },
      "source": [
        "print(\"--- Comparación del Rendimiento de los Modelos ---\")\n",
        "\n",
        "print(\"\\nMétricas de Regresión Logística:\")\n",
        "print(f\"AUC: {log_reg_auc:.4f}\")\n",
        "print(f\"Precisión: {log_reg_accuracy:.4f}\")\n",
        "print(f\"Precisión: {log_reg_precision:.4f}\")\n",
        "print(f\"Recall: {log_reg_recall:.4f}\")\n",
        "print(f\"Puntuación F1: {log_reg_f1:.4f}\")\n",
        "\n",
        "print(\"\\nMétricas de Random Forest:\")\n",
        "print(f\"AUC: {rf_clf_auc:.4f}\")\n",
        "print(f\"Precisión: {rf_clf_accuracy:.4f}\")\n",
        "print(f\"Precisión: {rf_clf_precision:.4f}\")\n",
        "print(f\"Recall: {rf_clf_recall:.4f}\")\n",
        "print(f\"Puntuación F1: {rf_clf_f1:.4f}\")\n",
        "\n",
        "print(\"\\n--- Discusión del Rendimiento ---\")\n",
        "print(\"Comparando los dos modelos en el conjunto de prueba:\")\n",
        "\n",
        "print(\"\\nAUC (Área bajo la Curva ROC):\")\n",
        "print(f\"- Random Forest (AUC: {rf_clf_auc:.4f}) tuvo un mejor rendimiento que la Regresión Logística (AUC: {log_reg_auc:.4f}). El AUC mide la capacidad del modelo para distinguir entre clases positivas y negativas. Un AUC más alto indica una mejor discriminación.\")\n",
        "\n",
        "print(\"\\nPrecisión:\")\n",
        "print(f\"- Random Forest (Precisión: {rf_clf_accuracy:.4f}) también mostró una mayor precisión general que la Regresión Logística (Precisión: {log_reg_accuracy:.4f}). La precisión es la relación entre las instancias correctamente predichas y el total de instancias.\")\n",
        "\n",
        "print(\"\\nPrecisión (Precision):\")\n",
        "print(f\"- Random Forest (Precisión: {rf_clf_precision:.4f}) tiene una precisión más alta que la Regresión Logística (Precisión: {log_reg_precision:.4f}). La precisión es la relación entre las predicciones verdaderas positivas y el total de predicciones positivas. Una precisión más alta significa menos falsos positivos.\")\n",
        "\n",
        "print(\"\\nRecall (Sensibilidad):\")\n",
        "print(f\"- Random Forest (Recall: {rf_clf_recall:.4f}) tiene un recall más alto que la Regresión Logística (Recall: {log_reg_recall:.4f}). El recall es la relación entre las predicciones verdaderas positivas y el total de verdaderos positivos. Un recall más alto significa menos falsos negativos (mejor para identificar clientes que han causado baja).\")\n",
        "\n",
        "print(\"\\nPuntuación F1 (F1-Score):\")\n",
        "print(f\"- Random Forest (Puntuación F1: {rf_clf_f1:.4f}) tiene una puntuación F1 significativamente más alta que la Regresión Logística (Puntuación F1: {log_reg_f1:.4f}). La puntuación F1 es la media armónica de la precisión y el recall, proporcionando una medida equilibrada del rendimiento del modelo, especialmente útil en conjuntos de datos desequilibrados.\")\n",
        "\n",
        "print(\"\\n--- Fortalezas y Debilidades ---\")\n",
        "\n",
        "print(\"\\nRegresión Logística:\")\n",
        "print(\"- Fortalezas: Simple, interpretable, computacionalmente eficiente, un buen modelo de referencia. Sensible al escalado de características, lo cual fue abordado.\")\n",
        "print(\"- Debilidades: Asume relaciones lineales entre las características y las log-odds de la variable objetivo. Puede no capturar patrones no lineales complejos en los datos, que podrían estar presentes en el comportamiento de la rotación de clientes. El rendimiento fue inferior en la mayoría de las métricas en comparación con Random Forest.\")\n",
        "\n",
        "print(\"\\nRandom Forest:\")\n",
        "print(\"- Fortalezas: Modelo no lineal capaz de capturar interacciones complejas entre características. Menos sensible a los valores atípicos y no requiere escalado de características. Generalmente tiene un buen rendimiento en una variedad de conjuntos de datos. Mostró un mejor rendimiento en las métricas clave (AUC, Precisión, Precisión, Recall, Puntuación F1) en esta evaluación.\")\n",
        "print(\"- Debilidades: Puede ser menos interpretable que la Regresión Logística (aunque se puede analizar la importancia de las características). Puede ser computacionalmente más costoso de entrenar, especialmente en conjuntos de datos muy grandes.\")\n",
        "\n",
        "print(\"\\n--- Conclusión ---\")\n",
        "print(\"Basado en las métricas de evaluación, el modelo Random Forest tuvo un mejor rendimiento que el modelo de Regresión Logística para esta tarea de predicción de rotación de clientes. Esto sugiere que la naturaleza no lineal del modelo Random Forest podría ser más adecuada para capturar los patrones subyacentes en los datos.\")"
      ],
      "execution_count": 32,
      "outputs": [
        {
          "output_type": "stream",
          "name": "stdout",
          "text": [
            "--- Comparación del Rendimiento de los Modelos ---\n",
            "\n",
            "Métricas de Regresión Logística:\n",
            "AUC: 0.8076\n",
            "Precisión: 0.7634\n",
            "Precisión: 0.5933\n",
            "Recall: 0.2392\n",
            "Puntuación F1: 0.3410\n",
            "\n",
            "Métricas de Random Forest:\n",
            "AUC: 0.8300\n",
            "Precisión: 0.7923\n",
            "Precisión: 0.6129\n",
            "Recall: 0.5108\n",
            "Puntuación F1: 0.5572\n",
            "\n",
            "--- Discusión del Rendimiento ---\n",
            "Comparando los dos modelos en el conjunto de prueba:\n",
            "\n",
            "AUC (Área bajo la Curva ROC):\n",
            "- Random Forest (AUC: 0.8300) tuvo un mejor rendimiento que la Regresión Logística (AUC: 0.8076). El AUC mide la capacidad del modelo para distinguir entre clases positivas y negativas. Un AUC más alto indica una mejor discriminación.\n",
            "\n",
            "Precisión:\n",
            "- Random Forest (Precisión: 0.7923) también mostró una mayor precisión general que la Regresión Logística (Precisión: 0.7634). La precisión es la relación entre las instancias correctamente predichas y el total de instancias.\n",
            "\n",
            "Precisión (Precision):\n",
            "- Random Forest (Precisión: 0.6129) tiene una precisión más alta que la Regresión Logística (Precisión: 0.5933). La precisión es la relación entre las predicciones verdaderas positivas y el total de predicciones positivas. Una precisión más alta significa menos falsos positivos.\n",
            "\n",
            "Recall (Sensibilidad):\n",
            "- Random Forest (Recall: 0.5108) tiene un recall más alto que la Regresión Logística (Recall: 0.2392). El recall es la relación entre las predicciones verdaderas positivas y el total de verdaderos positivos. Un recall más alto significa menos falsos negativos (mejor para identificar clientes que han causado baja).\n",
            "\n",
            "Puntuación F1 (F1-Score):\n",
            "- Random Forest (Puntuación F1: 0.5572) tiene una puntuación F1 significativamente más alta que la Regresión Logística (Puntuación F1: 0.3410). La puntuación F1 es la media armónica de la precisión y el recall, proporcionando una medida equilibrada del rendimiento del modelo, especialmente útil en conjuntos de datos desequilibrados.\n",
            "\n",
            "--- Fortalezas y Debilidades ---\n",
            "\n",
            "Regresión Logística:\n",
            "- Fortalezas: Simple, interpretable, computacionalmente eficiente, un buen modelo de referencia. Sensible al escalado de características, lo cual fue abordado.\n",
            "- Debilidades: Asume relaciones lineales entre las características y las log-odds de la variable objetivo. Puede no capturar patrones no lineales complejos en los datos, que podrían estar presentes en el comportamiento de la rotación de clientes. El rendimiento fue inferior en la mayoría de las métricas en comparación con Random Forest.\n",
            "\n",
            "Random Forest:\n",
            "- Fortalezas: Modelo no lineal capaz de capturar interacciones complejas entre características. Menos sensible a los valores atípicos y no requiere escalado de características. Generalmente tiene un buen rendimiento en una variedad de conjuntos de datos. Mostró un mejor rendimiento en las métricas clave (AUC, Precisión, Precisión, Recall, Puntuación F1) en esta evaluación.\n",
            "- Debilidades: Puede ser menos interpretable que la Regresión Logística (aunque se puede analizar la importancia de las características). Puede ser computacionalmente más costoso de entrenar, especialmente en conjuntos de datos muy grandes.\n",
            "\n",
            "--- Conclusión ---\n",
            "Basado en las métricas de evaluación, el modelo Random Forest tuvo un mejor rendimiento que el modelo de Regresión Logística para esta tarea de predicción de rotación de clientes. Esto sugiere que la naturaleza no lineal del modelo Random Forest podría ser más adecuada para capturar los patrones subyacentes en los datos.\n"
          ]
        }
      ]
    },
    {
      "cell_type": "markdown",
      "metadata": {
        "id": "fedcdf7b"
      },
      "source": [
        "## Resumen:\n",
        "\n",
        "### Hallazgos Clave del Análisis de Datos\n",
        "\n",
        "* El modelo Random Forest superó consistentemente al modelo de Regresión Logística en todas las métricas evaluadas (AUC, Precisión, Precisión, Recall y Puntuación F1) en el conjunto de prueba.\n",
        "* Random Forest logró un AUC de 0.8300, en comparación con el 0.8076 de la Regresión Logística.\n",
        "* Random Forest mostró un Recall significativamente más alto (0.5108 vs 0.2392) y una Puntuación F1 (0.5572 vs 0.3410), lo que indica que fue más efectivo para identificar casos reales de rotación de clientes mientras mantenía un mejor equilibrio entre precisión y recall.\n",
        "* Se identificaron e imputaron valores faltantes en los conjuntos de datos de entrenamiento y prueba durante la fase de evaluación.\n",
        "* Se aplicó el escalado de características usando `StandardScaler` a los datos para el modelo de Regresión Logística, que es sensible al escalado, mientras que el modelo Random Forest se entrenó en datos no escalados.\n",
        "\n",
        "### Conclusiones o Próximos Pasos\n",
        "\n",
        "* El rendimiento superior del modelo Random Forest sugiere que las relaciones no lineales y las interacciones de características son factores importantes en la predicción de la rotación de clientes en este conjunto de datos. Esta diferencia de rendimiento también sugiere que la Regresión Logística podría estar subajustando los datos en comparación con Random Forest, ya que es un modelo más simple que asume relaciones lineales.\n",
        "* Para investigar más a fondo el sobreajuste, podríamos comparar las métricas de rendimiento de ambos modelos en el conjunto de entrenamiento versus el conjunto de prueba. Una caída significativa en el rendimiento del entrenamiento a la prueba indicaría sobreajuste.\n",
        "* Un análisis adicional podría implicar la exploración de la importancia de las características del modelo Random Forest para identificar los factores más influyentes que impulsan la rotación.\n",
        "* También podríamos explorar la sintonización de hiperparámetros para ambos modelos para mejorar potencialmente su rendimiento.\n",
        "* Considerar otros modelos o técnicas de conjunto también podría ser beneficioso."
      ]
    },
    {
      "cell_type": "markdown",
      "metadata": {
        "id": "3eb1344e"
      },
      "source": [
        "# Tarea\n",
        "Analizar la importancia de las características para los modelos entrenados de Regresión Logística y Random Forest para identificar los impulsores clave de la rotación de clientes. Resumir y comparar los hallazgos de ambos modelos.\n"
      ]
    },
    {
      "cell_type": "markdown",
      "metadata": {
        "id": "3602cb74"
      },
      "source": [
        "## Analizar coeficientes de regresión logística\n",
        "\n",
        "### Subtarea:\n",
        "Extraer e interpretar los coeficientes del modelo de Regresión Logística para comprender el impacto de cada característica en las log-odds de la rotación de clientes.\n"
      ]
    },
    {
      "cell_type": "markdown",
      "metadata": {
        "id": "a44b143b"
      },
      "source": [
        "**Razonamiento**:\n",
        "Extraer e interpretar los coeficientes del modelo de Regresión Logística para comprender el impacto de cada característica en las log-odds de la rotación de clientes.\n",
        "\n",
        "\n"
      ]
    },
    {
      "cell_type": "code",
      "metadata": {
        "colab": {
          "base_uri": "https://localhost:8080/"
        },
        "id": "395508c6",
        "outputId": "3004cab0-2f1a-4071-86ae-7ac28b95aa59"
      },
      "source": [
        "import pandas as pd\n",
        "\n",
        "# Acceder a los coeficientes del modelo de Regresión Logística\n",
        "log_reg_coefficients = log_reg.coef_[0]\n",
        "\n",
        "# Crear una Serie de pandas con los nombres de las características y los valores absolutos de los coeficientes\n",
        "# Nota: X_train_imputed_scaled es un array de numpy, necesitamos los nombres de las características originales de X\n",
        "feature_names = X.columns\n",
        "log_reg_feature_importance = pd.Series(abs(log_reg_coefficients), index=feature_names)\n",
        "\n",
        "# Ordenar las características por los valores absolutos de los coeficientes en orden descendente\n",
        "log_reg_feature_importance_sorted = log_reg_feature_importance.sort_values(ascending=False)\n",
        "\n",
        "# Imprimir las 20 características más importantes y sus coeficientes absolutos\n",
        "print(\"Las 20 Características Más Importantes (Regresión Logística):\")\n",
        "print(log_reg_feature_importance_sorted.head(20))\n",
        "\n",
        "# Interpretar brevemente el significado de los coeficientes (requiere los valores de los coeficientes originales)\n",
        "log_reg_coefficients_with_names = pd.Series(log_reg_coefficients, index=feature_names)\n",
        "print(\"\\nInterpretación de los 5 Principales Coeficientes (Regresión Logística):\")\n",
        "for feature, coef in log_reg_coefficients_with_names.sort_values(key=abs, ascending=False).head(5).items():\n",
        "    print(f\"- Característica '{feature}': Coeficiente = {coef:.4f}\")\n",
        "    if coef > 0:\n",
        "        print(\"  Interpretación: Un aumento en el valor de esta característica se asocia con un mayor log-odds de rotación de clientes.\")\n",
        "    else:\n",
        "        print(\"  Interpretación: Un aumento en el valor de esta característica se asocia con un menor log-odds de rotación de clientes.\")"
      ],
      "execution_count": 33,
      "outputs": [
        {
          "output_type": "stream",
          "name": "stdout",
          "text": [
            "Las 20 Características Más Importantes (Regresión Logística):\n",
            "tenure                                                                                                                                                                                      0.434379\n",
            "customer_{'gender': 'Female', 'SeniorCitizen': 1, 'Partner': 'No', 'Dependents': 'No', 'tenure': 1}                                                                                         0.415106\n",
            "internet_{'InternetService': 'DSL', 'OnlineSecurity': 'Yes', 'OnlineBackup': 'No', 'DeviceProtection': 'No', 'TechSupport': 'No', 'StreamingTV': 'No', 'StreamingMovies': 'No'}             0.357641\n",
            "internet_{'InternetService': 'DSL', 'OnlineSecurity': 'No', 'OnlineBackup': 'No', 'DeviceProtection': 'No', 'TechSupport': 'Yes', 'StreamingTV': 'No', 'StreamingMovies': 'No'}             0.352442\n",
            "InternetService_Fiber optic                                                                                                                                                                 0.337588\n",
            "customer_{'gender': 'Male', 'SeniorCitizen': 0, 'Partner': 'No', 'Dependents': 'No', 'tenure': 1}                                                                                           0.334620\n",
            "Contract_Two year                                                                                                                                                                           0.327618\n",
            "PaymentMethod_Electronic check                                                                                                                                                              0.314259\n",
            "OnlineSecurity_Yes                                                                                                                                                                          0.311136\n",
            "TotalCharges                                                                                                                                                                                0.277648\n",
            "internet_{'InternetService': 'Fiber optic', 'OnlineSecurity': 'No', 'OnlineBackup': 'No', 'DeviceProtection': 'Yes', 'TechSupport': 'No', 'StreamingTV': 'No', 'StreamingMovies': 'Yes'}    0.259170\n",
            "Contract_One year                                                                                                                                                                           0.258555\n",
            "internet_{'InternetService': 'DSL', 'OnlineSecurity': 'No', 'OnlineBackup': 'No', 'DeviceProtection': 'No', 'TechSupport': 'No', 'StreamingTV': 'Yes', 'StreamingMovies': 'No'}             0.241009\n",
            "customer_{'gender': 'Female', 'SeniorCitizen': 1, 'Partner': 'Yes', 'Dependents': 'No', 'tenure': 1}                                                                                        0.238835\n",
            "PaperlessBilling_Yes                                                                                                                                                                        0.210455\n",
            "Partner_Yes                                                                                                                                                                                 0.196058\n",
            "account_{'Contract': 'Month-to-month', 'PaperlessBilling': 'Yes', 'PaymentMethod': 'Mailed check', 'Charges': {'Monthly': 70.6, 'Total': '70.6'}}                                           0.183934\n",
            "internet_{'InternetService': 'Fiber optic', 'OnlineSecurity': 'No', 'OnlineBackup': 'No', 'DeviceProtection': 'No', 'TechSupport': 'No', 'StreamingTV': 'No', 'StreamingMovies': 'No'}      0.176374\n",
            "internet_{'InternetService': 'DSL', 'OnlineSecurity': 'Yes', 'OnlineBackup': 'Yes', 'DeviceProtection': 'No', 'TechSupport': 'No', 'StreamingTV': 'No', 'StreamingMovies': 'No'}            0.173507\n",
            "customer_{'gender': 'Female', 'SeniorCitizen': 0, 'Partner': 'No', 'Dependents': 'No', 'tenure': 1}                                                                                         0.172903\n",
            "dtype: float64\n",
            "\n",
            "Interpretación de los 5 Principales Coeficientes (Regresión Logística):\n",
            "- Característica 'tenure': Coeficiente = -0.4344\n",
            "  Interpretación: Un aumento en el valor de esta característica se asocia con un menor log-odds de rotación de clientes.\n",
            "- Característica 'customer_{'gender': 'Female', 'SeniorCitizen': 1, 'Partner': 'No', 'Dependents': 'No', 'tenure': 1}': Coeficiente = 0.4151\n",
            "  Interpretación: Un aumento en el valor de esta característica se asocia con un mayor log-odds de rotación de clientes.\n",
            "- Característica 'internet_{'InternetService': 'DSL', 'OnlineSecurity': 'Yes', 'OnlineBackup': 'No', 'DeviceProtection': 'No', 'TechSupport': 'No', 'StreamingTV': 'No', 'StreamingMovies': 'No'}': Coeficiente = -0.3576\n",
            "  Interpretación: Un aumento en el valor de esta característica se asocia con un menor log-odds de rotación de clientes.\n",
            "- Característica 'internet_{'InternetService': 'DSL', 'OnlineSecurity': 'No', 'OnlineBackup': 'No', 'DeviceProtection': 'No', 'TechSupport': 'Yes', 'StreamingTV': 'No', 'StreamingMovies': 'No'}': Coeficiente = 0.3524\n",
            "  Interpretación: Un aumento en el valor de esta característica se asocia con un mayor log-odds de rotación de clientes.\n",
            "- Característica 'InternetService_Fiber optic': Coeficiente = 0.3376\n",
            "  Interpretación: Un aumento en el valor de esta característica se asocia con un mayor log-odds de rotación de clientes.\n"
          ]
        }
      ]
    },
    {
      "cell_type": "markdown",
      "metadata": {
        "id": "5e576bad"
      },
      "source": [
        "**Razonamiento**:\n",
        "Extraer e interpretar las importancias de las características para el modelo Random Forest para identificar los impulsores clave de la rotación de clientes y compararlos con los hallazgos de la Regresión Logística.\n",
        "\n"
      ]
    },
    {
      "cell_type": "code",
      "metadata": {
        "colab": {
          "base_uri": "https://localhost:8080/"
        },
        "id": "682803df",
        "outputId": "cb10fdbd-5db6-4885-8f7c-e79b3fbff337"
      },
      "source": [
        "# Acceder a las importancias de las características del modelo Random Forest\n",
        "rf_feature_importance = rf_clf.feature_importances_\n",
        "\n",
        "# Crear una Serie de pandas con los nombres de las características y los valores de importancia\n",
        "# Nota: X_train_resampled es un array de numpy, necesitamos los nombres de las características originales de X\n",
        "feature_names = X.columns\n",
        "rf_feature_importance_series = pd.Series(rf_feature_importance, index=feature_names)\n",
        "\n",
        "# Ordenar las características por los valores de importancia en orden descendente\n",
        "rf_feature_importance_sorted = rf_feature_importance_series.sort_values(ascending=False)\n",
        "\n",
        "# Imprimir las 20 características más importantes para Random Forest\n",
        "print(\"\\nLas 20 Características Más Importantes (Random Forest):\")\n",
        "print(rf_feature_importance_sorted.head(20))\n",
        "\n",
        "# Comparar las principales características de ambos modelos\n",
        "print(\"\\n--- Comparación de las Características Principales ---\")\n",
        "print(\"\\nLas 10 principales características según la Regresión Logística:\")\n",
        "print(log_reg_feature_importance_sorted.head(10))\n",
        "\n",
        "print(\"\\nLas 10 principales características según Random Forest:\")\n",
        "print(rf_feature_importance_sorted.head(10))\n",
        "\n",
        "print(\"\\n--- Discusión ---\")\n",
        "print(\"Comparando las importancias de las características de la Regresión Logística y Random Forest:\")\n",
        "print(\"- Ambos modelos identifican la 'tenure' y 'TotalCharges' como características importantes, lo que concuerda con la exploración de datos inicial que mostró diferencias en estas características para los clientes que causaron baja.\")\n",
        "print(\"- Random Forest otorga más importancia a las características relacionadas con los tipos de servicio de internet (Fiber optic) y el tipo de contrato (Month-to-month), que también se destacaron en las visualizaciones.\")\n",
        "print(\"- Las principales características de la Regresión Logística incluyen varias combinaciones muy específicas de atributos de cliente y servicio codificadas con one-hot, probablemente debido a su naturaleza lineal que intenta encontrar patrones específicos en estas combinaciones. Random Forest, al ser un modelo basado en árboles, puede capturar interacciones más complejas sin depender de estas combinaciones exactas como características individuales.\")\n",
        "print(\"- Las combinaciones específicas de 'customer' e 'internet' que aparecen en las principales características de la Regresión Logística (por ejemplo, `customer_{'gender': 'Female', 'SeniorCitizen': 1, 'Partner': 'No', 'Dependents': 'No', 'tenure': 1}`) probablemente reflejan el impacto de una tenencia muy corta (tenure: 1) o configuraciones de servicio específicas en la rotación, que el modelo captura a través de la relación lineal con estas características binarias.\")\n",
        "print(\"- El énfasis de Random Forest en categorías más amplias como 'InternetService_Fiber optic', 'Contract_Two year' y 'PaymentMethod_Electronic check' sugiere que estas características generales de servicio y contrato son fuertes predictores de la rotación, lo que es consistente con los gráficos de conteo.\")\n",
        "print(\"- Las diferencias en las características principales reflejan los diferentes mecanismos de los modelos: la Regresión Logística encuentra relaciones lineales con características individuales (incluidas las combinaciones codificadas con one-hot), mientras que Random Forest identifica características que conducen a las mejores divisiones en los datos, capturando no linealidades e interacciones.\")"
      ],
      "execution_count": 34,
      "outputs": [
        {
          "output_type": "stream",
          "name": "stdout",
          "text": [
            "\n",
            "Las 20 Características Más Importantes (Random Forest):\n",
            "tenure                                   0.046055\n",
            "TotalCharges                             0.044807\n",
            "PaymentMethod_Electronic check           0.038070\n",
            "PaperlessBilling_Yes                     0.025507\n",
            "Partner_Yes                              0.023781\n",
            "InternetService_Fiber optic              0.023203\n",
            "Contract_Two year                        0.022152\n",
            "TechSupport_Yes                          0.021292\n",
            "NumServices                              0.020257\n",
            "OnlineSecurity_Yes                       0.019374\n",
            "PaymentMethod_Credit card (automatic)    0.017944\n",
            "OnlineBackup_Yes                         0.016460\n",
            "Contract_One year                        0.015947\n",
            "Dependents_Yes                           0.013884\n",
            "OnlineSecurity_No internet service       0.012696\n",
            "gender_Male                              0.012122\n",
            "DeviceProtection_Yes                     0.011824\n",
            "SeniorCitizen                            0.011470\n",
            "TechSupport_No internet service          0.010344\n",
            "PaymentMethod_Mailed check               0.010296\n",
            "dtype: float64\n",
            "\n",
            "--- Comparación de las Características Principales ---\n",
            "\n",
            "Las 10 principales características según la Regresión Logística:\n",
            "tenure                                                                                                                                                                             0.434379\n",
            "customer_{'gender': 'Female', 'SeniorCitizen': 1, 'Partner': 'No', 'Dependents': 'No', 'tenure': 1}                                                                                0.415106\n",
            "internet_{'InternetService': 'DSL', 'OnlineSecurity': 'Yes', 'OnlineBackup': 'No', 'DeviceProtection': 'No', 'TechSupport': 'No', 'StreamingTV': 'No', 'StreamingMovies': 'No'}    0.357641\n",
            "internet_{'InternetService': 'DSL', 'OnlineSecurity': 'No', 'OnlineBackup': 'No', 'DeviceProtection': 'No', 'TechSupport': 'Yes', 'StreamingTV': 'No', 'StreamingMovies': 'No'}    0.352442\n",
            "InternetService_Fiber optic                                                                                                                                                        0.337588\n",
            "customer_{'gender': 'Male', 'SeniorCitizen': 0, 'Partner': 'No', 'Dependents': 'No', 'tenure': 1}                                                                                  0.334620\n",
            "Contract_Two year                                                                                                                                                                  0.327618\n",
            "PaymentMethod_Electronic check                                                                                                                                                     0.314259\n",
            "OnlineSecurity_Yes                                                                                                                                                                 0.311136\n",
            "TotalCharges                                                                                                                                                                       0.277648\n",
            "dtype: float64\n",
            "\n",
            "Las 10 principales características según Random Forest:\n",
            "tenure                            0.046055\n",
            "TotalCharges                      0.044807\n",
            "PaymentMethod_Electronic check    0.038070\n",
            "PaperlessBilling_Yes              0.025507\n",
            "Partner_Yes                       0.023781\n",
            "InternetService_Fiber optic       0.023203\n",
            "Contract_Two year                 0.022152\n",
            "TechSupport_Yes                   0.021292\n",
            "NumServices                       0.020257\n",
            "OnlineSecurity_Yes                0.019374\n",
            "dtype: float64\n",
            "\n",
            "--- Discusión ---\n",
            "Comparando las importancias de las características de la Regresión Logística y Random Forest:\n",
            "- Ambos modelos identifican la 'tenure' y 'TotalCharges' como características importantes, lo que concuerda con la exploración de datos inicial que mostró diferencias en estas características para los clientes que causaron baja.\n",
            "- Random Forest otorga más importancia a las características relacionadas con los tipos de servicio de internet (Fiber optic) y el tipo de contrato (Month-to-month), que también se destacaron en las visualizaciones.\n",
            "- Las principales características de la Regresión Logística incluyen varias combinaciones muy específicas de atributos de cliente y servicio codificadas con one-hot, probablemente debido a su naturaleza lineal que intenta encontrar patrones específicos en estas combinaciones. Random Forest, al ser un modelo basado en árboles, puede capturar interacciones más complejas sin depender de estas combinaciones exactas como características individuales.\n",
            "- Las combinaciones específicas de 'customer' e 'internet' que aparecen en las principales características de la Regresión Logística (por ejemplo, `customer_{'gender': 'Female', 'SeniorCitizen': 1, 'Partner': 'No', 'Dependents': 'No', 'tenure': 1}`) probablemente reflejan el impacto de una tenencia muy corta (tenure: 1) o configuraciones de servicio específicas en la rotación, que el modelo captura a través de la relación lineal con estas características binarias.\n",
            "- El énfasis de Random Forest en categorías más amplias como 'InternetService_Fiber optic', 'Contract_Two year' y 'PaymentMethod_Electronic check' sugiere que estas características generales de servicio y contrato son fuertes predictores de la rotación, lo que es consistente con los gráficos de conteo.\n",
            "- Las diferencias en las características principales reflejan los diferentes mecanismos de los modelos: la Regresión Logística encuentra relaciones lineales con características individuales (incluidas las combinaciones codificadas con one-hot), mientras que Random Forest identifica características que conducen a las mejores divisiones en los datos, capturando no linealidades e interacciones.\n"
          ]
        }
      ]
    },
    {
      "cell_type": "markdown",
      "metadata": {
        "id": "4813a2bb"
      },
      "source": [
        "## Resumen:\n",
        "\n",
        "### Hallazgos Clave del Análisis de Datos\n",
        "\n",
        "* Ambos modelos, Regresión Logística y Random Forest, identificaron la 'tenure' y 'TotalCharges' como características importantes para predecir la rotación de clientes.\n",
        "* El modelo Random Forest dio mayor importancia al tipo de servicio de internet ('InternetService_Fiber optic') y al tipo de contrato ('Contract_Two year' y 'Contract_Month-to-month').\n",
        "* Las principales características de la Regresión Logística incluyeron varias combinaciones muy específicas de atributos de cliente y servicio codificadas con one-hot, lo que potencialmente captura el impacto de una tenencia corta o configuraciones de servicio específicas.\n",
        "* El énfasis de Random Forest en categorías más amplias como el servicio de internet, el tipo de contrato y el método de pago ('PaymentMethod_Electronic check') sugiere que estas características generales son fuertes predictores de la rotación.\n",
        "\n",
        "### Conclusiones o Próximos Pasos\n",
        "\n",
        "* Centrar las estrategias de prevención de la rotación en clientes con tenencia corta, cargos totales altos, aquellos con internet de fibra óptica, contratos mensuales y aquellos que usan métodos de pago con cheque electrónico.\n",
        "* Investigar las combinaciones específicas de atributos de cliente y servicio destacadas por el modelo de Regresión Logística para comprender por qué estas características granulares son fuertes indicadores de rotación en un modelo lineal.\n",
        "\n"
      ]
    }
  ]
}